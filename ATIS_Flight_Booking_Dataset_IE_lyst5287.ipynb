{
  "nbformat": 4,
  "nbformat_minor": 0,
  "metadata": {
    "kernelspec": {
      "display_name": "Python [default]",
      "language": "python",
      "name": "python3"
    },
    "language_info": {
      "codemirror_mode": {
        "name": "ipython",
        "version": 3
      },
      "file_extension": ".py",
      "mimetype": "text/x-python",
      "name": "python",
      "nbconvert_exporter": "python",
      "pygments_lexer": "ipython3",
      "version": "3.5.4"
    },
    "colab": {
      "name": "attachment_ATIS_Flight_Booking_Dataset_IE_lyst5287.ipynb",
      "provenance": [],
      "include_colab_link": true
    }
  },
  "cells": [
    {
      "cell_type": "markdown",
      "metadata": {
        "id": "view-in-github",
        "colab_type": "text"
      },
      "source": [
        "<a href=\"https://colab.research.google.com/github/sai233023/hello-world/blob/master/ATIS_Flight_Booking_Dataset_IE_lyst5287.ipynb\" target=\"_parent\"><img src=\"https://colab.research.google.com/assets/colab-badge.svg\" alt=\"Open In Colab\"/></a>"
      ]
    },
    {
      "cell_type": "markdown",
      "metadata": {
        "id": "jvuHudSmf7E7",
        "colab_type": "text"
      },
      "source": [
        "# ATIS Flight Reservations - Information Extraction\n",
        "\n",
        "\n",
        "<hr>\n",
        "\n",
        "Table of Contents:\n",
        "\n",
        "1. Understanding the Data\n",
        "2. Information Extraction \n",
        "    - Pipeline for Information Extraction Systems\n",
        "    - Named Entity Recognition (NER)\n",
        "3. Models for Entity Recognition\n",
        "    - Rule-based models\n",
        "        - Regular Expression Based Rules (ex)\n",
        "        - Chunking \n",
        "    - Probabilistic models\n",
        "        - Unigram and Bigram models\n",
        "        - Naive Bayes Classifier \n",
        "        - Conditional Random Fields (CRFs)\n",
        "\n",
        "<hr>\n",
        "\n",
        "The ATIS (Airline Travel Information Systems) dataset consists of English language queries for booking (or requesting information about) flights in the US. \n",
        "\n",
        "Each word in a query (i.e. a request by a user) is labelled according to its **entity-type**, for e.g. in the query 'please show morning flights from chicago to new york', 'chicago' and 'new york are labelled as 'source' and 'destination' locations respectively while 'morning' is labelled as 'time-of-day' (the exact labelling scheme is a bit different, more on that later).\n",
        "\n",
        "Some example queries taken from the dataset are shown below:\n",
        "\n",
        "```\n",
        "{\n",
        "'what flights leave atlanta at about DIGIT in the afternoon and arrive in san francisco',\n",
        " 'what is the abbreviation for canadian airlines international',\n",
        " \"i 'd like to know the earliest flight from boston to atlanta\",\n",
        " 'show me the us air flights from atlanta to boston',\n",
        " 'show me the cheapest round trips from dallas to baltimore',\n",
        " \"i 'd like to see all flights from denver to philadelphia\"\n",
        " }\n",
        " ```\n",
        "\n",
        "### Objective\n",
        "Our objective is to **build an information extraction system** which can extract entities relevant for booking flights (such as source and destination cities, time, date, budget constraints etc.) in a **structured format** from a given user-generated query.\n",
        "\n",
        "A structured format could be a dictionary, a JSON, etc. - basically anything that can be parsed and used for looking up relevant flights from a database.\n",
        "\n",
        "\n",
        "### Downloads\n",
        "The dataset is divided into five folds, each fold having a training, validation and test set.\n",
        "You can download the dataset here: http://lisaweb.iro.umontreal.ca/transfert/lisa/users/mesnilgr/atis/\n",
        "\n",
        "\n"
      ]
    },
    {
      "cell_type": "markdown",
      "metadata": {
        "id": "Q2dO7VuNf7E-",
        "colab_type": "text"
      },
      "source": [
        "# Understanding the Data \n",
        "\n",
        "Let's understand the structure of the training data. The dataset is provided in five folds, each fold having a training, validation, test set and a dict (explained later). All folds are structurally identical, so understanding one fold is enough to understand the entire set.\n"
      ]
    },
    {
      "cell_type": "code",
      "metadata": {
        "id": "qduGRi-8f7E_",
        "colab_type": "code",
        "colab": {}
      },
      "source": [
        "# import libaries\n",
        "import numpy as np\n",
        "import pandas as pd\n",
        "import nltk, pprint\n",
        "import matplotlib.pyplot as plt\n",
        "import random\n",
        "\n",
        "import gzip, os, pickle # gzip for reading the gz files, pickle to save/dump trained model \n",
        "import _pickle as cPickle\n",
        "\n",
        "import sklearn\n",
        "from sklearn.model_selection import GridSearchCV\n",
        "from sklearn.model_selection import RandomizedSearchCV\n",
        "\n",
        "# supress warnings\n",
        "import warnings\n",
        "warnings.filterwarnings('ignore')\n"
      ],
      "execution_count": 0,
      "outputs": []
    },
    {
      "cell_type": "code",
      "metadata": {
        "id": "lZjhzu-DhG53",
        "colab_type": "code",
        "outputId": "3630342d-2981-493c-cf22-aa32417fc3e2",
        "colab": {
          "base_uri": "https://localhost:8080/",
          "height": 122
        }
      },
      "source": [
        "from google.colab import drive\n",
        "drive.mount('drive')"
      ],
      "execution_count": 0,
      "outputs": [
        {
          "output_type": "stream",
          "text": [
            "Go to this URL in a browser: https://accounts.google.com/o/oauth2/auth?client_id=947318989803-6bn6qk8qdgf4n4g3pfee6491hc0brc4i.apps.googleusercontent.com&redirect_uri=urn%3aietf%3awg%3aoauth%3a2.0%3aoob&response_type=code&scope=email%20https%3a%2f%2fwww.googleapis.com%2fauth%2fdocs.test%20https%3a%2f%2fwww.googleapis.com%2fauth%2fdrive%20https%3a%2f%2fwww.googleapis.com%2fauth%2fdrive.photos.readonly%20https%3a%2f%2fwww.googleapis.com%2fauth%2fpeopleapi.readonly\n",
            "\n",
            "Enter your authorization code:\n",
            "··········\n",
            "Mounted at drive\n"
          ],
          "name": "stdout"
        }
      ]
    },
    {
      "cell_type": "code",
      "metadata": {
        "id": "KZLcPc3whQa1",
        "colab_type": "code",
        "colab": {}
      },
      "source": [
        "path_data=\"drive/My Drive/ATIS_Flight_Dataset/atis_fold0_pkl_lyst9440.gz\""
      ],
      "execution_count": 0,
      "outputs": []
    },
    {
      "cell_type": "markdown",
      "metadata": {
        "id": "Ta3molAff7FD",
        "colab_type": "text"
      },
      "source": [
        "Let's now read the first fold of the dataset. The data is in .gz files, so we'll need the gzip library as well. "
      ]
    },
    {
      "cell_type": "code",
      "metadata": {
        "scrolled": true,
        "id": "IFHn8uxgf7FE",
        "colab_type": "code",
        "colab": {}
      },
      "source": [
        "# read the first part of the dataset\n",
        "# each part (.gz file) contains train, validation and test sets, plus a dict\n",
        "\n",
        "filename = path_data\n",
        "f = gzip.open(filename, 'rb')\n",
        "try:\n",
        "    train_set, valid_set, test_set, dicts = pickle.load(f, encoding='latin1')\n",
        "except:\n",
        "    train_set, valid_set, test_set, dicts = pickle.load(f)\n",
        "finally:\n",
        "    f.close()\n"
      ],
      "execution_count": 0,
      "outputs": []
    },
    {
      "cell_type": "code",
      "metadata": {
        "id": "TIuklXBJf7FH",
        "colab_type": "code",
        "outputId": "622effb9-e117-4dc1-cf64-0e002352d8bf",
        "colab": {
          "base_uri": "https://localhost:8080/",
          "height": 85
        }
      },
      "source": [
        "# type and size of the train set\n",
        "print(type(train_set))\n",
        "print()\n",
        "\n",
        "# types of the three elements in the tuple\n",
        "print(type(train_set[0]), type(train_set[1]), type(train_set[2]))\n",
        "print(len(train_set[0]), len(train_set[1]), len(train_set[2]))"
      ],
      "execution_count": 0,
      "outputs": [
        {
          "output_type": "stream",
          "text": [
            "<class 'tuple'>\n",
            "\n",
            "<class 'list'> <class 'list'> <class 'list'>\n",
            "3983 3983 3983\n"
          ],
          "name": "stdout"
        }
      ]
    },
    {
      "cell_type": "markdown",
      "metadata": {
        "id": "7smQbNGkf7FM",
        "colab_type": "text"
      },
      "source": [
        "The training set is a tuple containing three lists of same lengths as shown above. Similarly, the validation and test sets contain three lists as well (shown below)."
      ]
    },
    {
      "cell_type": "code",
      "metadata": {
        "id": "SLkcXor2f7FO",
        "colab_type": "code",
        "outputId": "99a4e2f0-7385-42ee-ced4-fc88472974d3",
        "colab": {
          "base_uri": "https://localhost:8080/",
          "height": 102
        }
      },
      "source": [
        "# validation set\n",
        "print(type(valid_set[0]), type(valid_set[1]), type(valid_set[2]))\n",
        "print(len(valid_set[0]), len(valid_set[1]), len(valid_set[2]))\n",
        "print()\n",
        "\n",
        "# test set\n",
        "print(type(test_set[0]), type(test_set[1]), type(test_set[2]))\n",
        "print(len(test_set[0]), len(test_set[1]), len(test_set[2]))"
      ],
      "execution_count": 0,
      "outputs": [
        {
          "output_type": "stream",
          "text": [
            "<class 'list'> <class 'list'> <class 'list'>\n",
            "995 995 995\n",
            "\n",
            "<class 'list'> <class 'list'> <class 'list'>\n",
            "893 893 893\n"
          ],
          "name": "stdout"
        }
      ]
    },
    {
      "cell_type": "markdown",
      "metadata": {
        "id": "kdCRb8Cdf7FR",
        "colab_type": "text"
      },
      "source": [
        "Thus, we have the train, validation and test sets each containing three lists of different lengths. Now, let's understand the data stored in the three lists."
      ]
    },
    {
      "cell_type": "code",
      "metadata": {
        "id": "WNCPssDzf7FS",
        "colab_type": "code",
        "outputId": "83e43539-48ad-4709-a9ae-1b22db6d2761",
        "colab": {
          "base_uri": "https://localhost:8080/",
          "height": 289
        }
      },
      "source": [
        "# first few elements in each list of the training set \n",
        "pprint.pprint(train_set[0][:3])\n",
        "print('#'*50)\n",
        "pprint.pprint(train_set[1][:3])\n",
        "print('#'*50)\n",
        "pprint.pprint(train_set[2][:3])"
      ],
      "execution_count": 0,
      "outputs": [
        {
          "output_type": "stream",
          "text": [
            "[array([554, 194, 268,  64,  62,  16,   8, 234, 481,  20,  40,  58, 234,\n",
            "       415, 205], dtype=int32),\n",
            " array([554, 241, 481,  14, 200,  91,  26, 239], dtype=int32),\n",
            " array([232,   0, 273, 502, 254, 481, 165, 193, 208,  77, 502,  64],\n",
            "      dtype=int32)]\n",
            "##################################################\n",
            "[array([  0,   0,   0,  18,   0,   1,  52,   0,   0,  76,   0,   0,   0,\n",
            "        18, 109], dtype=int32),\n",
            " array([  0,   0,   0,   0,   0,   6, 107, 107], dtype=int32),\n",
            " array([ 0,  0,  0,  0,  0,  0, 44,  0,  0, 18,  0, 18], dtype=int32)]\n",
            "##################################################\n",
            "[array([126, 126, 126,  48, 126,  36,  35, 126, 126,  33, 126, 126, 126,\n",
            "        78, 123], dtype=int32),\n",
            " array([126, 126, 126, 126, 126,   2,  83,  83], dtype=int32),\n",
            " array([126, 126, 126, 126, 126, 126,  42, 126, 126,  48, 126,  78],\n",
            "      dtype=int32)]\n"
          ],
          "name": "stdout"
        }
      ]
    },
    {
      "cell_type": "markdown",
      "metadata": {
        "id": "p6XXeKc3f7FV",
        "colab_type": "text"
      },
      "source": [
        "The first list contains the actual queries encoded by integers such as 554, 194, 268 ... and so on. For e.g. the first three integers 554, 194, 268 are encoded values of the words 'what', 'flights', 'leave' etc. \n",
        "\n",
        "\n",
        "The second list is to be ignored.\n",
        "\n",
        "The third list contains the (encoded) label of each word (how to do these mappings is explained in detail below). Since the actual words are encoded by numbers, we have to decode them using the dicts provided. Let's first store the three lists into separate objects so we don't have to worry about indexing the lists.\n"
      ]
    },
    {
      "cell_type": "code",
      "metadata": {
        "id": "0emzCCLhf7FW",
        "colab_type": "code",
        "colab": {}
      },
      "source": [
        "# storing the three elements of the tuple in three objects \n",
        "# The '_' is a conventional variable in python used to store non-useful/dummy objects\n",
        "train_x, _, train_label = train_set\n",
        "val_x, _, val_label = valid_set\n",
        "test_x, _, test_label = test_set"
      ],
      "execution_count": 0,
      "outputs": []
    },
    {
      "cell_type": "markdown",
      "metadata": {
        "id": "rvINFLfzf7FY",
        "colab_type": "text"
      },
      "source": [
        "So now, for training, validation and test sets, we have the **encoded words and labels** stored in the lists (train_x, train_label), (val_x, val_label) and (test_x, test_label). The first list represents the actual words (encoded), and the other list contains their labels (again, encoded).\n",
        "\n",
        "Let's now understand the structure of the lists."
      ]
    },
    {
      "cell_type": "code",
      "metadata": {
        "scrolled": true,
        "id": "N7yvNcXgf7FZ",
        "colab_type": "code",
        "outputId": "8d924821-c96d-4a8d-948a-4c4a1fb94ae6",
        "colab": {
          "base_uri": "https://localhost:8080/",
          "height": 51
        }
      },
      "source": [
        "# each list in the tuple is a numpy array (which us a complete sentence/query)\n",
        "# printing first list in the tuple's first element\n",
        "# each element represents a word of the query\n",
        "# this translates to 'what flights leave atlanta ....'\n",
        "train_x[0]"
      ],
      "execution_count": 0,
      "outputs": [
        {
          "output_type": "execute_result",
          "data": {
            "text/plain": [
              "array([554, 194, 268,  64,  62,  16,   8, 234, 481,  20,  40,  58, 234,\n",
              "       415, 205], dtype=int32)"
            ]
          },
          "metadata": {
            "tags": []
          },
          "execution_count": 22
        }
      ]
    },
    {
      "cell_type": "code",
      "metadata": {
        "scrolled": true,
        "id": "TP4_5vEBf7Fd",
        "colab_type": "code",
        "outputId": "e2f06d5b-fc45-4b2f-eb9a-e61843b5134e",
        "colab": {
          "base_uri": "https://localhost:8080/",
          "height": 51
        }
      },
      "source": [
        "# labels are stored in the third list train_label\n",
        "train_label[0]"
      ],
      "execution_count": 0,
      "outputs": [
        {
          "output_type": "execute_result",
          "data": {
            "text/plain": [
              "array([126, 126, 126,  48, 126,  36,  35, 126, 126,  33, 126, 126, 126,\n",
              "        78, 123], dtype=int32)"
            ]
          },
          "metadata": {
            "tags": []
          },
          "execution_count": 23
        }
      ]
    },
    {
      "cell_type": "markdown",
      "metadata": {
        "id": "jainLI2Qf7Fg",
        "colab_type": "text"
      },
      "source": [
        "To map the integers to words, we need to use the dictionaries provided. The dicts ```words2idx``` and ```labels2idx``` map the numeric ids to the actual words and labels respectively."
      ]
    },
    {
      "cell_type": "code",
      "metadata": {
        "id": "wcfV8huxf7Fh",
        "colab_type": "code",
        "outputId": "f635b99a-80c6-4d30-a65b-9183a021305a",
        "colab": {
          "base_uri": "https://localhost:8080/",
          "height": 51
        }
      },
      "source": [
        "# dicts to map numbers to words/labels\n",
        "print(type(dicts))\n",
        "print(dicts.keys())"
      ],
      "execution_count": 0,
      "outputs": [
        {
          "output_type": "stream",
          "text": [
            "<class 'dict'>\n",
            "dict_keys(['labels2idx', 'tables2idx', 'words2idx'])\n"
          ],
          "name": "stdout"
        }
      ]
    },
    {
      "cell_type": "code",
      "metadata": {
        "scrolled": true,
        "id": "mhP7sHoAf7Fo",
        "colab_type": "code",
        "outputId": "0838b2d9-a217-4bd3-b92d-1a54ab215b40",
        "colab": {
          "base_uri": "https://localhost:8080/",
          "height": 68
        }
      },
      "source": [
        "\n",
        "\n",
        "\n",
        "\n",
        "\n",
        "\n",
        "\n",
        "\n",
        "\n",
        "\n",
        "\n",
        "\n",
        "\n",
        "\n",
        "\n",
        "\n",
        "\n",
        "\n",
        "\n",
        "\n",
        "\n",
        "\n",
        "\n",
        "\n",
        "\n",
        "\n",
        "\n",
        "\n",
        "\n",
        "\n",
        "\n",
        "\n",
        "\n",
        "\n",
        "\n",
        "\n",
        "\n",
        "\n",
        "\n",
        "\n",
        "\n",
        "\n",
        "\n",
        "\n",
        "\n",
        "\n",
        "\n",
        "\n",
        "\n",
        "\n",
        "\n",
        "\n",
        "\n",
        "\n",
        "\n",
        "\n",
        "\n",
        "\n",
        "\n",
        "\n",
        "\n",
        "\n",
        "\n",
        "\n",
        "\n",
        "\n",
        "\n",
        "\n",
        "\n",
        "\n",
        "\n",
        "\n",
        "\n",
        "\n",
        "\n",
        "\n",
        "\n",
        "# each key:value pair is itself a dict\n",
        "print(type(dicts['labels2idx']))\n",
        "print(type(dicts['tables2idx']))\n",
        "print(type(dicts['words2idx']))\n"
      ],
      "execution_count": 0,
      "outputs": [
        {
          "output_type": "stream",
          "text": [
            "<class 'dict'>\n",
            "<class 'dict'>\n",
            "<class 'dict'>\n"
          ],
          "name": "stdout"
        }
      ]
    },
    {
      "cell_type": "code",
      "metadata": {
        "id": "Ze0YmLGnf7Fr",
        "colab_type": "code",
        "colab": {}
      },
      "source": [
        "# storing labels and words in separate variables\n",
        "# we'll need only two of these dicts - words and labels\n",
        "words = dicts['words2idx']\n",
        "labels = dicts['labels2idx']\n",
        "tables = dicts['tables2idx']"
      ],
      "execution_count": 0,
      "outputs": []
    },
    {
      "cell_type": "code",
      "metadata": {
        "id": "HPdSSga7f7Fu",
        "colab_type": "code",
        "outputId": "7e148ff9-0c05-4bcb-fc70-f457895aafa2",
        "colab": {
          "base_uri": "https://localhost:8080/",
          "height": 1000
        }
      },
      "source": [
        "labels"
      ],
      "execution_count": 0,
      "outputs": [
        {
          "output_type": "execute_result",
          "data": {
            "text/plain": [
              "{'B-aircraft_code': 0,\n",
              " 'B-airline_code': 1,\n",
              " 'B-airline_name': 2,\n",
              " 'B-airport_code': 3,\n",
              " 'B-airport_name': 4,\n",
              " 'B-arrive_date.date_relative': 5,\n",
              " 'B-arrive_date.day_name': 6,\n",
              " 'B-arrive_date.day_number': 7,\n",
              " 'B-arrive_date.month_name': 8,\n",
              " 'B-arrive_date.today_relative': 9,\n",
              " 'B-arrive_time.end_time': 10,\n",
              " 'B-arrive_time.period_mod': 11,\n",
              " 'B-arrive_time.period_of_day': 12,\n",
              " 'B-arrive_time.start_time': 13,\n",
              " 'B-arrive_time.time': 14,\n",
              " 'B-arrive_time.time_relative': 15,\n",
              " 'B-booking_class': 16,\n",
              " 'B-city_name': 17,\n",
              " 'B-class_type': 18,\n",
              " 'B-compartment': 19,\n",
              " 'B-connect': 20,\n",
              " 'B-cost_relative': 21,\n",
              " 'B-day_name': 22,\n",
              " 'B-day_number': 23,\n",
              " 'B-days_code': 24,\n",
              " 'B-depart_date.date_relative': 25,\n",
              " 'B-depart_date.day_name': 26,\n",
              " 'B-depart_date.day_number': 27,\n",
              " 'B-depart_date.month_name': 28,\n",
              " 'B-depart_date.today_relative': 29,\n",
              " 'B-depart_date.year': 30,\n",
              " 'B-depart_time.end_time': 31,\n",
              " 'B-depart_time.period_mod': 32,\n",
              " 'B-depart_time.period_of_day': 33,\n",
              " 'B-depart_time.start_time': 34,\n",
              " 'B-depart_time.time': 35,\n",
              " 'B-depart_time.time_relative': 36,\n",
              " 'B-economy': 37,\n",
              " 'B-fare_amount': 38,\n",
              " 'B-fare_basis_code': 39,\n",
              " 'B-flight': 40,\n",
              " 'B-flight_days': 41,\n",
              " 'B-flight_mod': 42,\n",
              " 'B-flight_number': 43,\n",
              " 'B-flight_stop': 44,\n",
              " 'B-flight_time': 45,\n",
              " 'B-fromloc.airport_code': 46,\n",
              " 'B-fromloc.airport_name': 47,\n",
              " 'B-fromloc.city_name': 48,\n",
              " 'B-fromloc.state_code': 49,\n",
              " 'B-fromloc.state_name': 50,\n",
              " 'B-meal': 51,\n",
              " 'B-meal_code': 52,\n",
              " 'B-meal_description': 53,\n",
              " 'B-mod': 54,\n",
              " 'B-month_name': 55,\n",
              " 'B-or': 56,\n",
              " 'B-period_of_day': 57,\n",
              " 'B-restriction_code': 58,\n",
              " 'B-return_date.date_relative': 59,\n",
              " 'B-return_date.day_name': 60,\n",
              " 'B-return_date.day_number': 61,\n",
              " 'B-return_date.month_name': 62,\n",
              " 'B-return_date.today_relative': 63,\n",
              " 'B-return_time.period_mod': 64,\n",
              " 'B-return_time.period_of_day': 65,\n",
              " 'B-round_trip': 66,\n",
              " 'B-state_code': 67,\n",
              " 'B-state_name': 68,\n",
              " 'B-stoploc.airport_code': 69,\n",
              " 'B-stoploc.airport_name': 70,\n",
              " 'B-stoploc.city_name': 71,\n",
              " 'B-stoploc.state_code': 72,\n",
              " 'B-time': 73,\n",
              " 'B-time_relative': 74,\n",
              " 'B-today_relative': 75,\n",
              " 'B-toloc.airport_code': 76,\n",
              " 'B-toloc.airport_name': 77,\n",
              " 'B-toloc.city_name': 78,\n",
              " 'B-toloc.country_name': 79,\n",
              " 'B-toloc.state_code': 80,\n",
              " 'B-toloc.state_name': 81,\n",
              " 'B-transport_type': 82,\n",
              " 'I-airline_name': 83,\n",
              " 'I-airport_name': 84,\n",
              " 'I-arrive_date.day_number': 85,\n",
              " 'I-arrive_time.end_time': 86,\n",
              " 'I-arrive_time.period_of_day': 87,\n",
              " 'I-arrive_time.start_time': 88,\n",
              " 'I-arrive_time.time': 89,\n",
              " 'I-arrive_time.time_relative': 90,\n",
              " 'I-city_name': 91,\n",
              " 'I-class_type': 92,\n",
              " 'I-cost_relative': 93,\n",
              " 'I-depart_date.day_number': 94,\n",
              " 'I-depart_date.today_relative': 95,\n",
              " 'I-depart_time.end_time': 96,\n",
              " 'I-depart_time.period_of_day': 97,\n",
              " 'I-depart_time.start_time': 98,\n",
              " 'I-depart_time.time': 99,\n",
              " 'I-depart_time.time_relative': 100,\n",
              " 'I-economy': 101,\n",
              " 'I-fare_amount': 102,\n",
              " 'I-fare_basis_code': 103,\n",
              " 'I-flight_mod': 104,\n",
              " 'I-flight_number': 105,\n",
              " 'I-flight_stop': 106,\n",
              " 'I-flight_time': 107,\n",
              " 'I-fromloc.airport_name': 108,\n",
              " 'I-fromloc.city_name': 109,\n",
              " 'I-fromloc.state_name': 110,\n",
              " 'I-meal_code': 111,\n",
              " 'I-meal_description': 112,\n",
              " 'I-restriction_code': 113,\n",
              " 'I-return_date.date_relative': 114,\n",
              " 'I-return_date.day_number': 115,\n",
              " 'I-return_date.today_relative': 116,\n",
              " 'I-round_trip': 117,\n",
              " 'I-state_name': 118,\n",
              " 'I-stoploc.city_name': 119,\n",
              " 'I-time': 120,\n",
              " 'I-today_relative': 121,\n",
              " 'I-toloc.airport_name': 122,\n",
              " 'I-toloc.city_name': 123,\n",
              " 'I-toloc.state_name': 124,\n",
              " 'I-transport_type': 125,\n",
              " 'O': 126}"
            ]
          },
          "metadata": {
            "tags": []
          },
          "execution_count": 28
        }
      ]
    },
    {
      "cell_type": "code",
      "metadata": {
        "scrolled": false,
        "id": "f2DdGpzjf7F1",
        "colab_type": "code",
        "outputId": "d3c58753-280d-4199-b5f6-b29cbe5371d7",
        "colab": {
          "base_uri": "https://localhost:8080/",
          "height": 187
        }
      },
      "source": [
        "# each key of 'words' is a word, each value its index\n",
        "# printing some random key:value pairs of 'words'\n",
        "random.sample(words.items(), 10)"
      ],
      "execution_count": 0,
      "outputs": [
        {
          "output_type": "execute_result",
          "data": {
            "text/plain": [
              "[('general', 209),\n",
              " ('seventh', 435),\n",
              " ('okay', 357),\n",
              " ('lufthansa', 289),\n",
              " ('eighteenth', 170),\n",
              " ('we', 545),\n",
              " ('rental', 399),\n",
              " ('jersey', 245),\n",
              " ('midnight', 309),\n",
              " ('december', 134)]"
            ]
          },
          "metadata": {
            "tags": []
          },
          "execution_count": 41
        }
      ]
    },
    {
      "cell_type": "code",
      "metadata": {
        "id": "pj069D64f7F5",
        "colab_type": "code",
        "outputId": "fce7608a-2338-4e85-9db7-9f0fcceb3616",
        "colab": {}
      },
      "source": [
        "# now, we can map the numeric values v in a sentence with the k,v in the dict\n",
        "# train_x contains the list of training queries; train_x[0] is the first query\n",
        "# this is the first query\n",
        "[k for val in train_x[0] for k,v in words.items() if v==val]"
      ],
      "execution_count": 0,
      "outputs": [
        {
          "output_type": "execute_result",
          "data": {
            "text/plain": [
              "['what',\n",
              " 'flights',\n",
              " 'leave',\n",
              " 'atlanta',\n",
              " 'at',\n",
              " 'about',\n",
              " 'DIGIT',\n",
              " 'in',\n",
              " 'the',\n",
              " 'afternoon',\n",
              " 'and',\n",
              " 'arrive',\n",
              " 'in',\n",
              " 'san',\n",
              " 'francisco']"
            ]
          },
          "metadata": {
            "tags": []
          },
          "execution_count": 14
        }
      ]
    },
    {
      "cell_type": "code",
      "metadata": {
        "scrolled": true,
        "id": "rcWjtHZCf7F9",
        "colab_type": "code",
        "outputId": "10389ca1-3385-4644-ab2a-db85511d5aad",
        "colab": {
          "base_uri": "https://localhost:8080/",
          "height": 527
        }
      },
      "source": [
        "# let's look at the first few queries\n",
        "sents = []\n",
        "for i in range(30):\n",
        "    sents.append(' '.join([k for val in train_x[i] for k,v in words.items() if v==val]))\n",
        "\n",
        "sents"
      ],
      "execution_count": 0,
      "outputs": [
        {
          "output_type": "execute_result",
          "data": {
            "text/plain": [
              "['what flights leave atlanta at about DIGIT in the afternoon and arrive in san francisco',\n",
              " 'what is the abbreviation for canadian airlines international',\n",
              " \"i 'd like to know the earliest flight from boston to atlanta\",\n",
              " 'show me the us air flights from atlanta to boston',\n",
              " 'show me the cheapest round trips from dallas to baltimore',\n",
              " \"i 'd like to see all flights from denver to philadelphia\",\n",
              " 'explain fare code qx',\n",
              " \"i 'd like a united airlines flight on wednesday from san francisco to boston\",\n",
              " 'what is the price of american airlines flight DIGITDIGIT from new york to los angeles',\n",
              " 'what does the meal code s stand for',\n",
              " 'what are all flights to denver from philadelphia on sunday',\n",
              " 'what times does the late afternoon flight leave from washington for denver',\n",
              " 'what flights are available monday from san francisco to pittsburgh',\n",
              " 'what airlines have business class',\n",
              " 'flights from atlanta to washington dc',\n",
              " 'from new york to toronto on thursday morning',\n",
              " 'show me all the direct flights from atlanta to baltimore',\n",
              " 'list the flights from new york to miami on a tuesday which are nonstop and cost less than DIGITDIGITDIGIT dollars',\n",
              " 'show me the first flight that arrives in toronto from cincinnati',\n",
              " 'what planes are used by twa',\n",
              " 'please give me the prices for all flights from philadelphia to denver airport next sunday',\n",
              " 'show me all flights from pittsburgh to oakland that arrive after DIGITDIGIT am',\n",
              " 'what is the least expensive flight today from atlanta to san francisco',\n",
              " 'i want a flight from philadelphia to dallas with a stop in atlanta',\n",
              " 'show me the flights from baltimore to philadelphia',\n",
              " 'what airlines fly from st. petersburg to milwaukee and from milwaukee to tacoma',\n",
              " 'please give me the flights from san francisco to washington dc',\n",
              " 'i need a flight delta airlines kansas city to salt lake',\n",
              " 'show me flights going from boston to denver arriving on wednesday morning',\n",
              " 'show me flights leaving from denver colorado to pittsburgh pennsylvania on wednesdays after DIGIT pm']"
            ]
          },
          "metadata": {
            "tags": []
          },
          "execution_count": 42
        }
      ]
    },
    {
      "cell_type": "markdown",
      "metadata": {
        "id": "eORbW4BYf7GA",
        "colab_type": "text"
      },
      "source": [
        "Similarly, we can map the encoded values of each word's label using the ```labels``` dict."
      ]
    },
    {
      "cell_type": "code",
      "metadata": {
        "scrolled": false,
        "id": "k37pu2qzf7GB",
        "colab_type": "code",
        "outputId": "25ec92ff-d76e-4b94-95c4-dbe6915035cf",
        "colab": {
          "base_uri": "https://localhost:8080/",
          "height": 442
        }
      },
      "source": [
        "# labels dict contains IOB (inside-out-beginning) labelled entities\n",
        "# printing some randomg k:v pairs \n",
        "random.sample(labels.items(), 25)"
      ],
      "execution_count": 0,
      "outputs": [
        {
          "output_type": "execute_result",
          "data": {
            "text/plain": [
              "[('B-toloc.state_code', 80),\n",
              " ('B-meal_code', 52),\n",
              " ('B-depart_date.today_relative', 29),\n",
              " ('I-fromloc.airport_name', 108),\n",
              " ('B-depart_time.period_of_day', 33),\n",
              " ('B-flight_time', 45),\n",
              " ('I-fromloc.city_name', 109),\n",
              " ('B-depart_time.start_time', 34),\n",
              " ('B-meal', 51),\n",
              " ('B-stoploc.airport_code', 69),\n",
              " ('I-depart_date.today_relative', 95),\n",
              " ('B-toloc.airport_name', 77),\n",
              " ('I-fromloc.state_name', 110),\n",
              " ('B-return_date.date_relative', 59),\n",
              " ('B-depart_date.month_name', 28),\n",
              " ('I-toloc.airport_name', 122),\n",
              " ('B-arrive_time.period_mod', 11),\n",
              " ('B-arrive_date.month_name', 8),\n",
              " ('I-depart_time.end_time', 96),\n",
              " ('B-depart_time.period_mod', 32),\n",
              " ('I-today_relative', 121),\n",
              " ('B-compartment', 19),\n",
              " ('B-return_date.day_number', 61),\n",
              " ('I-toloc.city_name', 123),\n",
              " ('I-arrive_time.start_time', 88)]"
            ]
          },
          "metadata": {
            "tags": []
          },
          "execution_count": 43
        }
      ]
    },
    {
      "cell_type": "markdown",
      "metadata": {
        "id": "3lhLUq3Xf7GE",
        "colab_type": "text"
      },
      "source": [
        "There are 127 classes of labels (including the 'O' - tokens that do not fall into any entity)."
      ]
    },
    {
      "cell_type": "code",
      "metadata": {
        "id": "ywWvcbkhf7GF",
        "colab_type": "code",
        "outputId": "3dc6cf19-88de-42a6-b5d2-f6455d9b03da",
        "colab": {
          "base_uri": "https://localhost:8080/",
          "height": 34
        }
      },
      "source": [
        "# number of labels\n",
        "print(len(labels.keys()))"
      ],
      "execution_count": 0,
      "outputs": [
        {
          "output_type": "stream",
          "text": [
            "127\n"
          ],
          "name": "stdout"
        }
      ]
    },
    {
      "cell_type": "markdown",
      "metadata": {
        "id": "k_zk4uNGf7GI",
        "colab_type": "text"
      },
      "source": [
        "#### Reversing the Dictionaries\n",
        "\n",
        "Since the dicts ```words``` and ```labels``` are key:value pairs of index:word/label, let's reverse the dicts so that we don't have to do a reverse lookup everytime."
      ]
    },
    {
      "cell_type": "code",
      "metadata": {
        "id": "oRmXOxXmf7GM",
        "colab_type": "code",
        "colab": {}
      },
      "source": [
        "# converting words_to_id to id_to_words\n",
        "# and labels_to_id to id_to_labels\n",
        "id_to_words = {words[k]:k for k in words}\n",
        "id_to_labels = {labels[k]:k for k in labels}"
      ],
      "execution_count": 0,
      "outputs": []
    },
    {
      "cell_type": "markdown",
      "metadata": {
        "id": "7D76vpdsf7GU",
        "colab_type": "text"
      },
      "source": [
        "Now we can print the words and corresponding labels simply by looking up the value of a numeric index of each word. Let's write a function which takes in an index and returns the corresponding query with its labels."
      ]
    },
    {
      "cell_type": "code",
      "metadata": {
        "id": "zQ87Urvtf7GW",
        "colab_type": "code",
        "colab": {}
      },
      "source": [
        "# takes in an integer index corresponding to a query \n",
        "# and returns a list of (word, label) pairs   \n",
        "def print_query(index):\n",
        "    w = [id_to_words[id] for id in train_x[index]]\n",
        "    l = [id_to_labels[id] for id in train_label[index]]\n",
        "    return list(zip(w, l))"
      ],
      "execution_count": 0,
      "outputs": []
    },
    {
      "cell_type": "code",
      "metadata": {
        "scrolled": false,
        "id": "xBB_Yd22f7GZ",
        "colab_type": "code",
        "outputId": "374c442e-4301-46ae-fc8f-94912f366c6b",
        "colab": {
          "base_uri": "https://localhost:8080/",
          "height": 221
        }
      },
      "source": [
        "# sample query\n",
        "print_query(3900)"
      ],
      "execution_count": 0,
      "outputs": [
        {
          "output_type": "execute_result",
          "data": {
            "text/plain": [
              "[('please', 'O'),\n",
              " ('show', 'O'),\n",
              " ('me', 'O'),\n",
              " ('the', 'O'),\n",
              " ('return', 'O'),\n",
              " ('flight', 'O'),\n",
              " ('number', 'O'),\n",
              " ('from', 'O'),\n",
              " ('toronto', 'B-fromloc.city_name'),\n",
              " ('to', 'O'),\n",
              " ('st.', 'B-toloc.city_name'),\n",
              " ('petersburg', 'I-toloc.city_name')]"
            ]
          },
          "metadata": {
            "tags": []
          },
          "execution_count": 49
        }
      ]
    },
    {
      "cell_type": "markdown",
      "metadata": {
        "id": "wgcSuxYdf7Gc",
        "colab_type": "text"
      },
      "source": [
        "Also, some queries specify stopover cities, such as this."
      ]
    },
    {
      "cell_type": "code",
      "metadata": {
        "scrolled": false,
        "id": "fXf7lsGwf7Gd",
        "colab_type": "code",
        "outputId": "4d9a4676-13c1-496d-daa9-095d89cc8e56",
        "colab": {}
      },
      "source": [
        "# example query: stopover city\n",
        "print_query(3443)"
      ],
      "execution_count": 0,
      "outputs": [
        {
          "output_type": "execute_result",
          "data": {
            "text/plain": [
              "[('is', 'O'),\n",
              " ('there', 'O'),\n",
              " ('a', 'O'),\n",
              " ('flight', 'O'),\n",
              " ('between', 'O'),\n",
              " ('oakland', 'B-fromloc.city_name'),\n",
              " ('and', 'O'),\n",
              " ('boston', 'B-toloc.city_name'),\n",
              " ('with', 'O'),\n",
              " ('a', 'O'),\n",
              " ('stopover', 'O'),\n",
              " ('in', 'O'),\n",
              " ('dallas', 'B-stoploc.city_name'),\n",
              " ('fort', 'I-stoploc.city_name'),\n",
              " ('worth', 'I-stoploc.city_name'),\n",
              " ('on', 'O'),\n",
              " ('twa', 'B-airline_code')]"
            ]
          },
          "metadata": {
            "tags": []
          },
          "execution_count": 21
        }
      ]
    },
    {
      "cell_type": "markdown",
      "metadata": {
        "id": "1_OWWHs1f7Gg",
        "colab_type": "text"
      },
      "source": [
        "# Information Extraction \n",
        "\n",
        "**Information Extraction (IE)** refers to the task of extracting structured information from unstructured text data. In this case, we want to extract all pieces of information from a query which are useful in making a flight reservation, such as source and destination cities, date of travel, price range etc. \n",
        "\n",
        "Other examples of IE tasks are extracting information about stock market announcements from financial news (which could be useful for predicting stock prices etc.), extracting structured information from large corpora of documents such as encyclopedias, government documents etc. On wikipedia, for e.g., some structured information is shown on the right side of the pages:\n",
        "\n",
        "<br><br><hr>\n",
        "<img src='https://i.stack.imgur.com/oJumb.png'>\n",
        "<br><br><hr>\n",
        "\n",
        "Most IE tasks start with the task of **Named Entity Recognition (NER)** - identifying mentions of *entities* in the text. Loosely speaking, entities refer to names of people, organizations (e.g. Air India, United Airlines), places/cities (Mumbai, Chicago), dates and timepoints (May, Wednesday, morning flight), numbers of specific types (e.g. money - 5000 INR) etc.\n",
        "\n",
        "The general process of information extraction is described below.\n"
      ]
    },
    {
      "cell_type": "markdown",
      "metadata": {
        "id": "NpzDauu8f7Gi",
        "colab_type": "text"
      },
      "source": [
        "\n",
        "## Information Extraction Pipeline\n",
        "\n",
        "Most IE pipelines start with the usual text preprocessing steps - sentence segmentation, word tokenisation and POS tagging. After preprocessing, the usual tasks are named entity recognition, and optionally relation recognition. \n",
        "\n",
        "Note that this is a generic pipeline, and you may make modifications according to the nature of your application. For example, you may add a 'spell check/correction layer' as the first preprocessing step if you expect some input data to have spelling errors.\n",
        "\n",
        "A generic IE pipeline schema, taken from the official NLTK book, is shown below.\n",
        "\n",
        "<br><br><hr>\n",
        "<img src='https://www.nltk.org/images/ie-architecture.png'>\n",
        "<br><br><hr>\n",
        "\n",
        "### Preprocessing \n",
        "\n",
        "The usual preprocessing steps are - if the raw input data is in the form of paragraphs, it is converted into sentences using a **sentence segmenter**, then broken down into tokens using **tokenisation**, and finally each token is **POS tagged**.\n",
        "\n"
      ]
    },
    {
      "cell_type": "markdown",
      "metadata": {
        "id": "pwyiwvw7f7Gj",
        "colab_type": "text"
      },
      "source": [
        "### Named Entity Recognition (NER)\n",
        "\n",
        "The labels corresponding to each word/token, as shown above, are of three types - I, O and B, which stand for inside, out and beginning (called **IOB tags**). This is a common way of labelling text data meant for NER tasks. The task of information extraction and named-entity recognition is explained in detail below. First, let's understand the task of NER and IOB labelling in detail.\n",
        "\n",
        "Some example IOB tagged words are shown below:\n"
      ]
    },
    {
      "cell_type": "code",
      "metadata": {
        "scrolled": true,
        "id": "5IVQDQZqf7Gk",
        "colab_type": "code",
        "outputId": "a9cc9548-8e51-40b1-da67-e1f47c709377",
        "colab": {
          "base_uri": "https://localhost:8080/",
          "height": 136
        }
      },
      "source": [
        "# run multiple times to see samples\n",
        "# randomly chosen sample IOB tagged queries from training data\n",
        "i=random.randrange(len(train_x))\n",
        "print_query(i)"
      ],
      "execution_count": 0,
      "outputs": [
        {
          "output_type": "execute_result",
          "data": {
            "text/plain": [
              "[('show', 'O'),\n",
              " ('me', 'O'),\n",
              " ('ground', 'O'),\n",
              " ('transportation', 'O'),\n",
              " ('in', 'O'),\n",
              " ('san', 'B-city_name'),\n",
              " ('francisco', 'I-city_name')]"
            ]
          },
          "metadata": {
            "tags": []
          },
          "execution_count": 50
        }
      ]
    },
    {
      "cell_type": "markdown",
      "metadata": {
        "id": "LUxaoqgZf7Gm",
        "colab_type": "text"
      },
      "source": [
        "In the query above, there are two named entities (cities) - san francisco and denver. \n",
        "\n",
        "Since san francisco comprises of two words, the first one is tagged *B-* and the second as *I-*. On the other hand, denver is only one word, so there's no *I-* tag. All the other words are not entities and are thus marked *O* (outside any entity).\n",
        "\n",
        "The **NER task** is to **predict the IOB labels** of each word."
      ]
    },
    {
      "cell_type": "markdown",
      "metadata": {
        "id": "IyuwOwlBf7Gn",
        "colab_type": "text"
      },
      "source": [
        "### NER as a Sequence-Labelling Task\n",
        "\n",
        "The task of **training an NER system**, i.e. assigning an IOB label to each word, is a **sequence labelling task** similar to POS tagging. For sequence labelling, one can try rule-based models such as writing **regular-expression based rules** to extract entities, **chunking** patterns of POS tags into an 'entity chunk' etc. (we'll try some of these below)\n",
        "\n",
        "One the other hand, one can use **probabilistic sequence labelling models** such as **HMMs**, the **Naive Bayes** classifier (classifying each word into one label class), **Conditional Random Fields (CRFs)** etc. \n",
        "\n",
        "Once the IOB tags of each word are predicted, we can **evaluate the model** using the usual metrics for multi-class classification models (num_classes = number of IOB tags).\n",
        "\n",
        "In the upcoming sections, we will try some of these approaches and compare their performance."
      ]
    },
    {
      "cell_type": "markdown",
      "metadata": {
        "id": "QSR1f2yBf7Gn",
        "colab_type": "text"
      },
      "source": [
        "# Models for Entity Recognition\n",
        "\n",
        "In the following sections, we'll build a variety of models for entity recognition, i.e. to predict the sequence of IOB tag of words. We'll try the two broad approaches - **rule-based models** and **probabilistic models**. \n",
        "\n",
        "Before that, we need to do some basic preprocessing of the data. \n",
        "\n",
        "## Part of Speech Tagging\n",
        "\n",
        "The usual preprocessing steps are sentence segmentation, tokenisation and POS tagging, but since in this case the raw data is already split into sentences (queries) and words, we only need to do POS tagging.\n",
        "\n",
        "The function below takes in a list of (encoded) sentences, uses the dict ```id_to_words``` to decode the numeric to the corresponding word, and returns the POS tagged list of sentences."
      ]
    },
    {
      "cell_type": "code",
      "metadata": {
        "id": "LpM-WGmZf7Go",
        "colab_type": "code",
        "colab": {}
      },
      "source": [
        "# POS tagging sentences\n",
        "# takes in a list of sentences and returns a list of POS-tagged sentences\n",
        "# in the form (word, tag)\n",
        "\n",
        "def pos_tag(sent_list):\n",
        "    pos_tags = []    \n",
        "    for sent in sent_list:\n",
        "        tagged_words = nltk.pos_tag([id_to_words[val] for val in sent])\n",
        "        pos_tags.append(tagged_words)\n",
        "    return pos_tags"
      ],
      "execution_count": 0,
      "outputs": []
    },
    {
      "cell_type": "code",
      "metadata": {
        "id": "GkFHZQ1Zf7Gs",
        "colab_type": "code",
        "colab": {}
      },
      "source": [
        "# pos tagging train, validation and test sets\n",
        "train_pos = pos_tag(train_x)\n",
        "valid_pos = pos_tag(val_x)\n",
        "test_pos = pos_tag(test_x)"
      ],
      "execution_count": 0,
      "outputs": []
    },
    {
      "cell_type": "code",
      "metadata": {
        "scrolled": true,
        "id": "mVgphuLJf7Gy",
        "colab_type": "code",
        "colab": {}
      },
      "source": [
        "# looking at tags of some randomly chosen queries\n",
        "# notice that most cities after 'TO' are incorrectly tagged as VB\n",
        "i = random.randrange(len(train_pos))\n",
        "train_pos[i]"
      ],
      "execution_count": 0,
      "outputs": []
    },
    {
      "cell_type": "markdown",
      "metadata": {
        "id": "ZETDLaEXf7G0",
        "colab_type": "text"
      },
      "source": [
        "**Problems with the NLTK Tagger**\n",
        "\n",
        "Note that almost all city/airport names that come after 'to/TO' are tagges as verbs 'VB', which is clearly incorrect. This is because NLTK's built-in tagger is trained using the penntreebank dataset, and it takes 'to/TO' as a strong signal for a 'VB'.\n",
        "\n",
        "\n",
        "In general, the performance of a POS tagger depends a lot on the data used to train it. There are alternatives to it - one, you can try using an alternative tagger such as the Stanford tagger, Spacy etc. (though note that getting them up and running in python may take a bit of time in installing dependencies/debugging etc.).\n",
        "\n",
        "The other alternative (recommended as a quick fix) is to use a **backup tagger** within NLTK, i.e. manually specify a unigram/bigram tagger to be used, and backed up by the standard NLTK tagger. You can <a href=\"https://stackoverflow.com/questions/5919355/custom-tagging-with-nltk/5922373#5922373\">learn how to do that here.</a>\n"
      ]
    },
    {
      "cell_type": "markdown",
      "metadata": {
        "id": "WuJS3e42f7G1",
        "colab_type": "text"
      },
      "source": [
        "### Creating 3-tuples of ```(word, pos, IOS_label)```\n",
        "To train a model, we need the entity labels of each word along with the POS tags, for e.g. in this format:\n",
        "\n",
        "```\n",
        "('show', 'VB', 'O'),\n",
        "('me', 'PRP', 'O'),\n",
        "('the', 'DT', 'O'),\n",
        "('cheapest', 'JJS', 'B-cost_relative'),\n",
        "('round', 'NN', 'B-round_trip'),\n",
        "('trips', 'NNS', 'I-round_trip'),\n",
        "('from', 'IN', 'O'),\n",
        "('dallas', 'NN', 'B-fromloc.city_name'),\n",
        "('to', 'TO', 'O'),\n",
        "('baltimore', 'VB', 'B-toloc.city_name')\n",
        "```\n",
        "<hr>\n",
        "\n",
        "Let's convert the training, validation and test sentences to this form. Since we have already  done POS tagging of the queries, we'll write a function which takes queries in the form (word, pos_tag) and the labels as input, and returns the list of sentences in the form (word, pos_tag, iob_label)."
      ]
    },
    {
      "cell_type": "code",
      "metadata": {
        "id": "JdGA-JiUf7G3",
        "colab_type": "code",
        "colab": {}
      },
      "source": [
        "# function to create (word, pos_tag, iob_label) tuples for a given dataset\n",
        "def create_word_pos_label(pos_tagged_data, labels):\n",
        "    iob_labels = []         # initialize the list of 3-tuples to be returned\n",
        "    \n",
        "    for sent in list(zip(pos_tagged_data, labels)):\n",
        "        pos = sent[0]       \n",
        "        labels = sent[1]    \n",
        "        zipped_list = list(zip(pos, labels)) # [(word, pos), label]\n",
        "        \n",
        "        # create (word, pos, label) tuples from zipped list\n",
        "        tuple_3 = [(word_pos_tuple[0], word_pos_tuple[1], id_to_labels[label]) \n",
        "                   for word_pos_tuple, label in zipped_list]\n",
        "        iob_labels.append(tuple_3)\n",
        "    return iob_labels"
      ],
      "execution_count": 0,
      "outputs": []
    },
    {
      "cell_type": "code",
      "metadata": {
        "id": "HAE0LXtWf7G5",
        "colab_type": "code",
        "colab": {}
      },
      "source": [
        "# printing some sample queries in the form (word, pos, label)\n",
        "train_labels = create_word_pos_label(train_pos, train_label)\n",
        "train_labels[4:6]"
      ],
      "execution_count": 0,
      "outputs": []
    },
    {
      "cell_type": "code",
      "metadata": {
        "id": "RAwYGdf8f7G8",
        "colab_type": "code",
        "colab": {}
      },
      "source": [
        "# storing validation and test data as well as (word, pos, label)\n",
        "valid_labels = create_word_pos_label(valid_pos, val_label)\n",
        "test_labels = create_word_pos_label(test_pos, test_label)"
      ],
      "execution_count": 0,
      "outputs": []
    },
    {
      "cell_type": "markdown",
      "metadata": {
        "id": "buy_i_nbf7G_",
        "colab_type": "text"
      },
      "source": [
        "Now that we have converted the queries in the form (word, pos, label), we can convert them into a **tree format** and observe the actual entities more clearly (rather than IOB labels). \n",
        "\n",
        "In general, IOB tagged sentences are represented in either of the two common formats - 1. The ```(word, pos, label)``` or the tagged list format or 2. The tree format. \n",
        "\n",
        "As we will see later, some built-in models/sequence taggers in NLTK need the data in the tree format.\n",
        "\n",
        "### Converting List to Tree Format\n",
        "\n",
        "Let's now convert the sentences into a tree format, which is needed by NLTK to train taggers. In NLTK, there are two main methods to convert between the two formats (the list of tags and tree) - ```conlltags2tree``` and ```tree2conlltags```."
      ]
    },
    {
      "cell_type": "code",
      "metadata": {
        "scrolled": true,
        "id": "2JFrdzLyf7HB",
        "colab_type": "code",
        "colab": {}
      },
      "source": [
        "from nltk.corpus import conll2000\n",
        "from nltk import conlltags2tree, tree2conlltags\n",
        "\n",
        "# print a sample tree in tuple format\n",
        "train_labels[3]"
      ],
      "execution_count": 0,
      "outputs": []
    },
    {
      "cell_type": "code",
      "metadata": {
        "id": "TGBMmYR8f7HE",
        "colab_type": "code",
        "colab": {}
      },
      "source": [
        "# converting the sample sentence above to tree format\n",
        "tree = conlltags2tree(train_labels[3])\n",
        "print(tree)"
      ],
      "execution_count": 0,
      "outputs": []
    },
    {
      "cell_type": "markdown",
      "metadata": {
        "id": "hda9hqBgf7HJ",
        "colab_type": "text"
      },
      "source": [
        "The tree above shows three entities in the query - ```flight_mod earliest``` (earliest), ```fromloc.city_name``` (boston), ```toloc.city_name``` (atlanta)."
      ]
    },
    {
      "cell_type": "markdown",
      "metadata": {
        "id": "MFvIDZZXf7HK",
        "colab_type": "text"
      },
      "source": [
        "Let's now convert all training sentences to trees."
      ]
    },
    {
      "cell_type": "code",
      "metadata": {
        "id": "l61Y9WUxf7HL",
        "colab_type": "code",
        "colab": {}
      },
      "source": [
        "# converting training, validation and test datasets to tree format\n",
        "train_trees = [conlltags2tree(sent) for sent in train_labels]\n",
        "valid_trees = [conlltags2tree(sent) for sent in valid_labels]\n",
        "test_trees = [conlltags2tree(sent) for sent in test_labels]"
      ],
      "execution_count": 0,
      "outputs": []
    },
    {
      "cell_type": "code",
      "metadata": {
        "scrolled": true,
        "id": "jZqVGYRsf7HQ",
        "colab_type": "code",
        "colab": {}
      },
      "source": [
        "# print some sample training trees\n",
        "i=random.randrange(len(train_trees))\n",
        "print(train_trees[i])"
      ],
      "execution_count": 0,
      "outputs": []
    },
    {
      "cell_type": "markdown",
      "metadata": {
        "id": "qBxYEhRYf7HU",
        "colab_type": "text"
      },
      "source": [
        "Now that we have the queries in tree formats, we can build some models to extract entities."
      ]
    },
    {
      "cell_type": "markdown",
      "metadata": {
        "id": "flfpr0ADf7HV",
        "colab_type": "text"
      },
      "source": [
        "## Rule-Based Models for Entity Recognition\n",
        "\n",
        "The most basic rule-based system can be written using regular expressions. The idea is to manually identify patterns which indicate occurence of entities we are interested in, such as source and destination cities, mentions of dates and time, names of organisations (in this case airlines such as united airlines, american airlines etc.) and write regular expressions to match them.\n"
      ]
    },
    {
      "cell_type": "markdown",
      "metadata": {
        "id": "HFTe5sVYf7HW",
        "colab_type": "text"
      },
      "source": [
        "### Chunking\n",
        "\n",
        "Chunking is a way to identify meaningful sequences of tokens called chunks in a sentence. It is commonly used to identify sequences of nouns, verbs etc. For example, in the example sentence taken from the NLTK book: <br>\n",
        "\n",
        "S = *\"We saw the yellow dog\"*\n",
        "\n",
        "there are two **noun phrase chunks** as shown below. Each outer box represents a chunk.\n",
        "\n",
        "<img src='https://www.nltk.org/book/tree_images/ch07-tree-1.png'>\n",
        "\n",
        "The corresponding **IOB representation** of the same is as follows:\n",
        "\n",
        "<img src='https://www.nltk.org/images/chunk-tagrep.png'>\n",
        "\n",
        "\n",
        "\n",
        "Similarly, in our dataset, the following sentence contains chunks such as fromloc.city_name (san francisco), class_type (first class), depart_time.time (DIGITDIGIT noon) etc.\n"
      ]
    },
    {
      "cell_type": "code",
      "metadata": {
        "id": "C2yUF77Uf7HX",
        "colab_type": "code",
        "colab": {}
      },
      "source": [
        "# sample chunks \n",
        "print(train_trees[3468])"
      ],
      "execution_count": 0,
      "outputs": []
    },
    {
      "cell_type": "markdown",
      "metadata": {
        "id": "0DYgnXx4f7Hg",
        "colab_type": "text"
      },
      "source": [
        "There are various techniques for building chunkers, such as regex based, unigram and bigram chunkers etc.\n",
        "\n",
        "### Regular Expression Based Chunkers\n",
        "\n",
        "Regex based chunkers define what is called a **chunk grammar**. A **chunk grammar is a pattern of POS tags** which are likely to form a particular chunk (and thus POS tagging is a necessary preprocessing step for such chunkers). \n",
        "\n",
        "The example from the NLTK book defined a simple garmmar to identify noun phrase chunks:\n",
        "\n"
      ]
    },
    {
      "cell_type": "code",
      "metadata": {
        "id": "VLwLiCXRf7Hh",
        "colab_type": "code",
        "colab": {}
      },
      "source": [
        "# chunking example sentence\n",
        "sentence = [(\"the\", \"DT\"), (\"little\", \"JJ\"), (\"yellow\", \"JJ\"),\n",
        "            (\"dog\", \"NN\"), (\"barked\", \"VBD\"), (\"at\", \"IN\"), (\"the\", \"DT\"), (\"cat\", \"NN\")]"
      ],
      "execution_count": 0,
      "outputs": []
    },
    {
      "cell_type": "markdown",
      "metadata": {
        "id": "T_JaXkq6f7Ho",
        "colab_type": "text"
      },
      "source": [
        "Now, we **define a chunk grammar** to identify noun phrase chunks as follows: *A noun phrase chunk occurs when an optional determiner (DT) is followed by any number of adjectives (JJ) and then a noun (NN).*"
      ]
    },
    {
      "cell_type": "code",
      "metadata": {
        "id": "PVX7YiVAf7Hv",
        "colab_type": "code",
        "colab": {}
      },
      "source": [
        "# define chunk grammar to identify noun phrase chunks\n",
        "# an optional determiner (DT), followed by any number of adjectives (JJ) \n",
        "# and then a noun (NN)\n",
        "grammar = \"NP_chunk: {<DT>?<NN><JJ>*}\""
      ],
      "execution_count": 0,
      "outputs": []
    },
    {
      "cell_type": "markdown",
      "metadata": {
        "id": "8PrUz2q0f7H4",
        "colab_type": "text"
      },
      "source": [
        "We now use the ```nltk.RegexpParser``` to parse the given sentence. The output will be a tree which identifies the NP chunks."
      ]
    },
    {
      "cell_type": "code",
      "metadata": {
        "id": "CYp6L815f7H5",
        "colab_type": "code",
        "colab": {}
      },
      "source": [
        "# parse the sentence\n",
        "cp = nltk.RegexpParser(grammar)\n",
        "result = cp.parse(sentence)\n",
        "print(result)"
      ],
      "execution_count": 0,
      "outputs": []
    },
    {
      "cell_type": "markdown",
      "metadata": {
        "id": "Y1L-nW9nf7H9",
        "colab_type": "text"
      },
      "source": [
        "The first NP chunk is 'the little yellow dog' and the second one is 'the cat'. One can also print the list representation of this tree as follows:"
      ]
    },
    {
      "cell_type": "code",
      "metadata": {
        "scrolled": true,
        "id": "9q02VeDDf7H-",
        "colab_type": "code",
        "colab": {}
      },
      "source": [
        "# list form of the tree\n",
        "tree2conlltags(result)"
      ],
      "execution_count": 0,
      "outputs": []
    },
    {
      "cell_type": "markdown",
      "metadata": {
        "id": "3iqXqKvrf7IB",
        "colab_type": "text"
      },
      "source": [
        "Similarly, we can write rules to identify entities in the airlines dataset. Before building any useful chunkers, let's first make a **baseline chunker** - one which assigns the label 'O' to every word and see its evaluation metrics. We can then compare the eventual models with this one. "
      ]
    },
    {
      "cell_type": "code",
      "metadata": {
        "id": "s7tOr5L1f7IC",
        "colab_type": "code",
        "colab": {}
      },
      "source": [
        "# baseline (dummy chunker)\n",
        "# assigns 'O' to each word\n",
        "\n",
        "grammar = ''\n",
        "\n",
        "# initialise cp \n",
        "cp = nltk.RegexpParser(grammar)\n",
        "\n",
        "# evaluate results against actual IOB labels\n",
        "result = cp.evaluate(train_trees)\n",
        "print(result)"
      ],
      "execution_count": 0,
      "outputs": []
    },
    {
      "cell_type": "markdown",
      "metadata": {
        "id": "BoIDA-VHf7IE",
        "colab_type": "text"
      },
      "source": [
        "An accuracy of 63.8% shows that about 63% words have the tag 'O', i.e. they do not fall in any chunk/entity. The other metrics are 0 since we did not predict any chunks at all.\n",
        "\n",
        "Let's now look at a few sentences and try to identify patterns for the chunks ```fromloc.city_name``` and ```toloc.city_name``` (since these are the most common entities)."
      ]
    },
    {
      "cell_type": "code",
      "metadata": {
        "id": "Ef1utOuXf7IF",
        "colab_type": "code",
        "colab": {}
      },
      "source": [
        "# sample queries \n",
        "print(train_trees[random.randrange(len(train_trees))])"
      ],
      "execution_count": 0,
      "outputs": []
    },
    {
      "cell_type": "markdown",
      "metadata": {
        "id": "uJbxffLcf7IO",
        "colab_type": "text"
      },
      "source": [
        "It is easy to see that a common pattern is *from city_1 to city_2*. The POS tag of from is 'IN', to is 'TO'. However, there's an interesting flaw in the tagger - most cities (city_2) after TO are tagged as as verb 'VB' (the nltk tagger uses 'TO' as a string signal for a verb).\n",
        "\n",
        "Nevertheless, the pattern is ```from/IN city_1/JJ city_1/NN to/TO city_2/VB city_2/NN``` (you can try looking at multiple sentences and verify).\n",
        "\n",
        "Let's define the grammar to identify the two types of chunks - ```fromloc.city_name``` and ```toloc.city_name```. The syntax is to simply write two regexes within the grammar, one for each, one after the other."
      ]
    },
    {
      "cell_type": "code",
      "metadata": {
        "id": "zLBxePEqf7IQ",
        "colab_type": "code",
        "colab": {}
      },
      "source": [
        "# grammar for source and destination city chunks\n",
        "grammar = '''\n",
        "fromloc.city_name: {<JJ>?<NN>}\n",
        "toloc.city_name: {<VB><NN>?}\n",
        "'''\n",
        "cp = nltk.RegexpParser(grammar)\n",
        "result = cp.evaluate(train_trees)\n",
        "print(result)"
      ],
      "execution_count": 0,
      "outputs": []
    },
    {
      "cell_type": "markdown",
      "metadata": {
        "id": "J0AQp7GPf7IS",
        "colab_type": "text"
      },
      "source": [
        "The results are although better than the baseline model, they are still quite unimpressive. Notice that now precision, recall and f-score are non-zero, indicating that the chunker is able to identify at least some chunks correctly (in this case ```fromloc.city_name``` and ```toloc.city_name```).\n",
        "\n",
        "We can add more regex patterns for other chunk types as well."
      ]
    },
    {
      "cell_type": "markdown",
      "metadata": {
        "id": "FvUdUS_If7IT",
        "colab_type": "text"
      },
      "source": [
        "We can see that in this dataset, queries are quite complex (large variety of labels, sentence structures etc.) and thus it is extremely hard write hand-written rules to extract useful entities.\n",
        "\n",
        "Thus, we need to train probabilistic models such as CRFs, HMMs etc. to tag each word with its corresponding entity label.\n"
      ]
    },
    {
      "cell_type": "markdown",
      "metadata": {
        "id": "PCyaiXQ_f7IY",
        "colab_type": "text"
      },
      "source": [
        "## Probabilistic Models for Entity Recognition\n",
        "\n",
        "Let's experiment with a few different models for labelling words with named entities.\n"
      ]
    },
    {
      "cell_type": "markdown",
      "metadata": {
        "id": "lG7bdFp3f7IZ",
        "colab_type": "text"
      },
      "source": [
        "### Unigram Chunker\n",
        "\n",
        "Let's now try a **unigram chunker**. A unigram chunker assigns the IOB label that is most likely for each POS tag.\n",
        "\n",
        "The following code defines a class ```UnigramChunker``` which (on initialisation) first converts the tree form of a sentence to the list form (word, pos, label), extracts the (pos, label) pairs and computes the unigram probabilities ```P(label | pos)``` for each POS tag. It then simply assigns the label that is most likely for the POS tag.\n",
        "\n",
        "The ```parse()``` method of the class takes a sentence in the form (word, pos) as the input, extracts only the pos tag from it, and uses the unigram tagger to assign the IOB label to each word. It then returns the sentence after converting it to a tree format.\n",
        "\n",
        "Note that the unigram tagger, like the previous regex-based chunkers, *does not make use of the word itself but only the word's POS tag*."
      ]
    },
    {
      "cell_type": "code",
      "metadata": {
        "id": "4ctwVxW6f7Ia",
        "colab_type": "code",
        "colab": {}
      },
      "source": [
        "# unigram chunker\n",
        "\n",
        "from nltk import ChunkParserI\n",
        "\n",
        "class UnigramChunker(ChunkParserI):    \n",
        "    def __init__(self, train_sents):\n",
        "        # convert train sents from tree format to tags\n",
        "        train_data = [[(t, c) for w, t, c in nltk.chunk.tree2conlltags(sent)] \n",
        "                      for sent in train_sents]\n",
        "        self.tagger = nltk.UnigramTagger(train_data)\n",
        "        \n",
        "    def parse(self, sentence):\n",
        "        pos_tags = [pos for (word, pos) in sentence]\n",
        "        tagged_pos_tags = self.tagger.tag(pos_tags)\n",
        "        chunktags = [chunktag for (pos, chunktag) in tagged_pos_tags]\n",
        "        \n",
        "        # convert to tree again\n",
        "        conlltags = [(word, pos, chunktag) for ((word, pos), chunktag) in zip(sentence, chunktags)]\n",
        "        return nltk.chunk.conlltags2tree(conlltags)\n",
        "        "
      ],
      "execution_count": 0,
      "outputs": []
    },
    {
      "cell_type": "code",
      "metadata": {
        "id": "RrPjPwpPf7Ic",
        "colab_type": "code",
        "colab": {}
      },
      "source": [
        "# unigram chunker \n",
        "unigram_chunker = UnigramChunker(train_trees)\n",
        "print(unigram_chunker.evaluate(valid_trees))"
      ],
      "execution_count": 0,
      "outputs": []
    },
    {
      "cell_type": "markdown",
      "metadata": {
        "id": "TZ-dN9p8f7Ig",
        "colab_type": "text"
      },
      "source": [
        "The accuracy, precision and recall have slightly improved compared to the previous regex-based  parser. "
      ]
    },
    {
      "cell_type": "markdown",
      "metadata": {
        "id": "yHn1cSihf7Ih",
        "colab_type": "text"
      },
      "source": [
        "Let's also look at what the unigram parser has learnt."
      ]
    },
    {
      "cell_type": "code",
      "metadata": {
        "id": "tXnODayPf7Ii",
        "colab_type": "code",
        "colab": {}
      },
      "source": [
        "# printing the most likely IOB tags for each POS tag\n",
        "\n",
        "# extract the list of pos tags\n",
        "postags = sorted(set([pos for sent in train_trees for (word, pos) in sent.leaves()]))\n",
        "\n",
        "# for each tag, assign the most likely IOB label\n",
        "print(unigram_chunker.tagger.tag(postags))"
      ],
      "execution_count": 0,
      "outputs": []
    },
    {
      "cell_type": "markdown",
      "metadata": {
        "id": "ZU1CesGFf7Io",
        "colab_type": "text"
      },
      "source": [
        "The unigram tagger has learnt that most pos tags are indeed an 'O', i.e. don't form an entity. Some interesting patterns it has learnt are:\n",
        "- JJR, JJS (relative adjectives), are most likely B-cost_relative (e.g. cheapest, cheaper)\n",
        "- NNP is most likely to be B-depart_time.time"
      ]
    },
    {
      "cell_type": "markdown",
      "metadata": {
        "id": "nJo59HHVf7Ir",
        "colab_type": "text"
      },
      "source": [
        "### Bigram Chunker\n",
        "\n",
        "Let's try a bigram chunker as well - we just need to change the ```UnigramTagger``` to ```BigramTagger```. This works exactly like the unigram chunker, the only difference being that now the probability of a pos tag having a label is computed using the current and the previous POS tags, i.e. P(label | pos, prev_pos)."
      ]
    },
    {
      "cell_type": "code",
      "metadata": {
        "id": "PYdydd5Uf7It",
        "colab_type": "code",
        "colab": {}
      },
      "source": [
        "# bigram tagger\n",
        "\n",
        "class BigramChunker(ChunkParserI):    \n",
        "    def __init__(self, train_sents):\n",
        "        # convert train sents from tree format to tags\n",
        "        train_data = [[(t, c) for w, t, c in nltk.chunk.tree2conlltags(sent)] \n",
        "                      for sent in train_sents]\n",
        "        self.tagger = nltk.BigramTagger(train_data)\n",
        "        \n",
        "    def parse(self, sentence):\n",
        "        pos_tags = [pos for (word, pos) in sentence]\n",
        "        tagged_pos_tags = self.tagger.tag(pos_tags)\n",
        "        chunktags = [chunktag for (pos, chunktag) in tagged_pos_tags]\n",
        "        \n",
        "        # convert to tree again\n",
        "        conlltags = [(word, pos, chunktag) for ((word, pos), chunktag) in zip(sentence, chunktags)]\n",
        "        return nltk.chunk.conlltags2tree(conlltags)\n",
        "        "
      ],
      "execution_count": 0,
      "outputs": []
    },
    {
      "cell_type": "code",
      "metadata": {
        "scrolled": true,
        "id": "NR9ZlnMSf7Iy",
        "colab_type": "code",
        "colab": {}
      },
      "source": [
        "# unigram chunker \n",
        "bigram_chunker = BigramChunker(train_trees)\n",
        "print(bigram_chunker.evaluate(valid_trees))"
      ],
      "execution_count": 0,
      "outputs": []
    },
    {
      "cell_type": "markdown",
      "metadata": {
        "id": "BWEE6qTJf7I1",
        "colab_type": "text"
      },
      "source": [
        "The metrics have improved significantly from unigram to bigram, which is expected. However, there are still some major flaws in this approach to build chunkers, the main drawback being that the model *uses only the POS tag to assign the label, not the actual word itself*. \n",
        "\n",
        "It is likely that if a model can make use of the word itself apart from the POS tag, it should be able to learn more complex patterns needed for this task. \n",
        "\n",
        "In fact, apart from the word, we can extract a large number of other features, such as previous word, previous tag, whether the word is a numeric, whether the word is a city or an airline company etc.\n",
        "\n",
        "Thus, in the following few sections, we'll extract a variety of features and build classifiers such as Naive Bayes using those features. \n",
        "\n",
        "Our first step in the direction of feature extraction will be to extract an feature which indicates whether a word is a city, state or county etc. Such features can be extracted by simply **looking up a gazetteer**.\n"
      ]
    },
    {
      "cell_type": "markdown",
      "metadata": {
        "id": "9k6EkO4mf7I2",
        "colab_type": "text"
      },
      "source": [
        "### Using a Gazetteer to Lookup Cities and States\n",
        "\n",
        "A gazetteer is a geographical directory which stores data regarding the names of geographical entities (cities, states, countries) and some other features related to the geographies. An example gazetteer file for the US is given below.\n",
        "\n",
        "Data download URL: https://raw.githubusercontent.com/grammakov/USA-cities-and-states/master/us_cities_states_counties.csv\n",
        "\n",
        "\n",
        "We'll write a simple function which takes a word as input and returns a tuple indicating **whether the word is a city, state or a county**."
      ]
    },
    {
      "cell_type": "code",
      "metadata": {
        "scrolled": true,
        "id": "Vx-Ijmebf7I3",
        "colab_type": "code",
        "colab": {}
      },
      "source": [
        "# reading a file containing list of US cities, states and counties\n",
        "us_cities = pd.read_csv(\"us_cities_states_counties.csv\", sep=\"|\")\n",
        "us_cities.head()\n"
      ],
      "execution_count": 0,
      "outputs": []
    },
    {
      "cell_type": "code",
      "metadata": {
        "scrolled": true,
        "id": "Vt-kI8H0f7I6",
        "colab_type": "code",
        "colab": {}
      },
      "source": [
        "# storing cities, states and counties as sets\n",
        "cities = set(us_cities['City'].str.lower())\n",
        "states = set(us_cities['State full'].str.lower())\n",
        "counties = set(us_cities['County'].str.lower())"
      ],
      "execution_count": 0,
      "outputs": []
    },
    {
      "cell_type": "code",
      "metadata": {
        "id": "xpqQH5Wpf7I8",
        "colab_type": "code",
        "colab": {}
      },
      "source": [
        "print(len(cities))\n",
        "print(len(states))\n",
        "print(len(counties))"
      ],
      "execution_count": 0,
      "outputs": []
    },
    {
      "cell_type": "code",
      "metadata": {
        "id": "jQpEf2e1f7I_",
        "colab_type": "code",
        "colab": {}
      },
      "source": [
        "# define a function to look up a given word in cities, states, county\n",
        "def gazetteer_lookup(word):\n",
        "    return (word in cities, word in states, word in counties)"
      ],
      "execution_count": 0,
      "outputs": []
    },
    {
      "cell_type": "code",
      "metadata": {
        "scrolled": false,
        "id": "Eks5znCPf7JI",
        "colab_type": "code",
        "colab": {}
      },
      "source": [
        "# sample lookups\n",
        "print(gazetteer_lookup('washington'))\n",
        "print(gazetteer_lookup('utah'))\n",
        "print(gazetteer_lookup('philadelphia'))\n"
      ],
      "execution_count": 0,
      "outputs": []
    },
    {
      "cell_type": "markdown",
      "metadata": {
        "id": "vTd66wRvf7JN",
        "colab_type": "text"
      },
      "source": [
        "Now let's build some **classifiers for NER**, i.e. classification models which take in each word (i.e. its features) as input and predicts its IOB label."
      ]
    },
    {
      "cell_type": "markdown",
      "metadata": {
        "id": "9dPD_8_8f7JO",
        "colab_type": "text"
      },
      "source": [
        "## Classifiers for NER \n",
        "\n",
        "As discussed above, IOB tagging is a **sequence classification task** - given a sequence of words and pos tags, predict the IOB label of the word. \n",
        "\n",
        "One of the main advantages of classifier based chunkers is that we can use a variety of features which we think will be strong indicators of a word's IOB tag. \n",
        "\n",
        "For e.g. if a word is a state/city name such as 'boston', it is very likely an ```B-fromloc.city_name``` or ```B-toloc.city_name```. \n",
        "\n",
        "Similarly, we can expect that the **previous word and the previous POS tag** could help predict the IOB labels of a word; that **if a word is the first or the last in the sentence** may strongly help predict the IOB label, etc. \n",
        "\n",
        "Also, in all sequence classification tasks, one can use the **predicted labels of the previous words** as features (recall that HMMs compute transition probabilities).\n",
        "\n",
        "\n",
        "The following code implements the Naive Bayes classifer which uses a variety of **word features** for classification. \n",
        "\n",
        "The function ```npchunk_features()```  takes in a sentence and  the word whose features are to be extracted (defined by its index i in the sentence) as input and returns a dictionary of word features as output. It also takes a ```history``` argument - a list of already predicted previous tags to the left of the target word, which is useful if you are using them as features.\n",
        "\n"
      ]
    },
    {
      "cell_type": "code",
      "metadata": {
        "id": "jwh11iW8f7JP",
        "colab_type": "code",
        "colab": {}
      },
      "source": [
        "# extracts features for the word at index i in a sentence \n",
        "def npchunk_features(sentence, i, history):\n",
        "    word, pos = sentence[i]\n",
        "    \n",
        "    # the first word has both previous word and previous tag undefined\n",
        "    if i == 0:\n",
        "        prevword, prevpos = \"<START>\", \"<START>\"\n",
        "    else:\n",
        "        prevword, prevpos = sentence[i-1]\n",
        "\n",
        "    # gazetteer lookup features (see section below)\n",
        "    gazetteer = gazetteer_lookup(word)\n",
        "\n",
        "    return {\"pos\": pos, \"prevpos\": prevpos, 'word':word,\n",
        "           'word_is_city': gazetteer[0],\n",
        "           'word_is_state': gazetteer[1],\n",
        "           'word_is_county': gazetteer[2]}"
      ],
      "execution_count": 0,
      "outputs": []
    },
    {
      "cell_type": "markdown",
      "metadata": {
        "id": "m64SuV6jf7JS",
        "colab_type": "text"
      },
      "source": [
        "Let's now look at word features of some example sentences."
      ]
    },
    {
      "cell_type": "code",
      "metadata": {
        "id": "geq1jgemf7JT",
        "colab_type": "code",
        "colab": {}
      },
      "source": [
        "# example sentence\n",
        "sent_pos = train_pos[0]\n",
        "sent_pos"
      ],
      "execution_count": 0,
      "outputs": []
    },
    {
      "cell_type": "code",
      "metadata": {
        "id": "wIwTvdXMf7JW",
        "colab_type": "code",
        "colab": {}
      },
      "source": [
        "# features for sentence sent_pos\n",
        "# each word's features are stored in a dict\n",
        "for i in range(len(sent_pos)):\n",
        "    print(npchunk_features(sent_pos, i, history=[]))\n",
        "    print(' ')"
      ],
      "execution_count": 0,
      "outputs": []
    },
    {
      "cell_type": "markdown",
      "metadata": {
        "id": "h1WqcIqBf7Jd",
        "colab_type": "text"
      },
      "source": [
        "Now, we define two classes ```ConsecutiveNPChunkTagger``` and ```ConsecutiveNPChunker```.\n",
        "\n",
        "The ```__init__``` method of the ```ConsecutiveNPChunkTagger``` class creates the ```train_set``` which is a list of labelled training sentences. Each sentence is a list of tuples (featureset, tag) -  each tuple is the featureset (dict) of a word and its label. \n",
        "\n",
        "The list ```history``` contains the list of previously predicted IOB tags, i.e. tags to the left of the target word. We can only use IOB tags to the left of the target word since that's all the tags we have at the time of prediction.\n",
        "\n",
        "The ```__init__``` method takes in an IOB tagged list of train_sents and loops through them. It first untags the IOB tags to generate (word, pos_tag) tuples stored in ```untagged_sent```. These tuples are used to compute the word features.\n",
        "\n",
        "Then for each (word, IOB_tag) in ```tagged_sent```, it computes the word features and appends the feature dict and the tag to ```train_sents```. It further appends the IOB tag to ```history```.\n",
        " \n",
        "The ```tag()``` method simply takes in a sentence as a list of words and predicts the IOB label of each word in the sentence.\n",
        "\n",
        "The ```ConsecutiveNPChunker``` class does all the the uninteresting work of converting between tree-list-tree formats (since NLTK's builtin classifiers need the list format). It takes in a list of sentences as trees, converts each sentence to the list form, and then initialises its tagger using methods already defined in the ```ConsecutiveNPChunkTagger``` class. The ```parse``` method tags the sentence and returns it in the tree format since it is easier to print and read.\n",
        "\n"
      ]
    },
    {
      "cell_type": "code",
      "metadata": {
        "id": "rUkOlfF5f7Jf",
        "colab_type": "code",
        "colab": {}
      },
      "source": [
        "class ConsecutiveNPChunkTagger(nltk.TaggerI): \n",
        "\n",
        "    def __init__(self, train_sents):\n",
        "        train_set = []\n",
        "        for tagged_sent in train_sents:\n",
        "            untagged_sent = nltk.tag.untag(tagged_sent)\n",
        "            history = []\n",
        "            # compute features for each word\n",
        "            for i, (word, tag) in enumerate(tagged_sent):\n",
        "                featureset = npchunk_features(untagged_sent, i, history) \n",
        "                train_set.append( (featureset, tag) )\n",
        "                history.append(tag)\n",
        "        self.classifier = nltk.NaiveBayesClassifier.train(train_set)\n",
        "\n",
        "    def tag(self, sentence):\n",
        "        history = []\n",
        "        for i, word in enumerate(sentence):\n",
        "            featureset = npchunk_features(sentence, i, history)\n",
        "            tag = self.classifier.classify(featureset)\n",
        "            history.append(tag)\n",
        "        return zip(sentence, history)\n",
        "\n",
        "class ConsecutiveNPChunker(nltk.ChunkParserI): \n",
        "    def __init__(self, train_sents):\n",
        "        tagged_sents = [[((w,t),c) for (w,t,c) in\n",
        "                         nltk.chunk.tree2conlltags(sent)]\n",
        "                        for sent in train_sents]\n",
        "        self.tagger = ConsecutiveNPChunkTagger(tagged_sents)\n",
        "\n",
        "    def parse(self, sentence):\n",
        "        tagged_sents = self.tagger.tag(sentence)\n",
        "        conlltags = [(w,t,c) for ((w,t),c) in tagged_sents]\n",
        "        return nltk.chunk.conlltags2tree(conlltags)"
      ],
      "execution_count": 0,
      "outputs": []
    },
    {
      "cell_type": "code",
      "metadata": {
        "id": "ORkQqVDjf7Ji",
        "colab_type": "code",
        "colab": {}
      },
      "source": [
        "# training the chunker \n",
        "chunker = ConsecutiveNPChunker(train_trees)"
      ],
      "execution_count": 0,
      "outputs": []
    },
    {
      "cell_type": "code",
      "metadata": {
        "scrolled": false,
        "id": "wKUmYgUGf7Jl",
        "colab_type": "code",
        "colab": {}
      },
      "source": [
        "# evaluate the chunker\n",
        "print(chunker.evaluate(valid_trees))"
      ],
      "execution_count": 0,
      "outputs": []
    },
    {
      "cell_type": "markdown",
      "metadata": {
        "id": "zhw_BOFof7Js",
        "colab_type": "text"
      },
      "source": [
        "The results have improved significantly compared to the basic unigram/bigram chunkers, and they may improve further if we create better features.\n",
        "\n",
        "For example, if the word is 'DIGIT' (numbers are labelled as 'DIGIT' in this dataset), we can have a feature which indicates that (see example below). In this dataset, 4-digit numbers are encoded as 'DIGITDIGITDIGITDIGIT'."
      ]
    },
    {
      "cell_type": "code",
      "metadata": {
        "scrolled": true,
        "id": "m2GuISrhf7Ju",
        "colab_type": "code",
        "colab": {}
      },
      "source": [
        "# example of 'DIGITDIGITDIGIT'\n",
        "train_pos[1326]"
      ],
      "execution_count": 0,
      "outputs": []
    },
    {
      "cell_type": "markdown",
      "metadata": {
        "id": "xpmuzM7cf7Jx",
        "colab_type": "text"
      },
      "source": [
        "Let's add some of these features and see if the performance improves."
      ]
    },
    {
      "cell_type": "code",
      "metadata": {
        "id": "CRWYY96hf7Jy",
        "colab_type": "code",
        "colab": {}
      },
      "source": [
        "# extracts features for a given word i in a given sentence \n",
        "# history refers to the previous POS tags in the sentence\n",
        "def npchunk_features(sentence, i, history):\n",
        "    word, pos = sentence[i]\n",
        "    \n",
        "    # the first word has both previous word and previous tag undefined\n",
        "    if i == 0:\n",
        "        prevword, prevpos = \"<START>\", \"<START>\"\n",
        "    else:\n",
        "        prevword, prevpos = sentence[i-1]\n",
        "        \n",
        "    if i == len(sentence)-1:\n",
        "        nextword, nextpos = '<END>', '<END>'\n",
        "    else:\n",
        "        nextword, nextpos = sentence[i+1]\n",
        "\n",
        "    # gazetteer lookup features (see section below)\n",
        "    gazetteer = gazetteer_lookup(word)\n",
        "\n",
        "    # adding word_is_digit feature (boolean)\n",
        "    return {\"pos\": pos, \"prevpos\": prevpos, 'word':word, \n",
        "           'word_is_city': gazetteer[0],\n",
        "           'word_is_state': gazetteer[1],\n",
        "           'word_is_county': gazetteer[2],\n",
        "           'word_is_digit': word in 'DIGITDIGITDIGIT', \n",
        "           'nextword': nextword, \n",
        "           'nextpos': nextpos}"
      ],
      "execution_count": 0,
      "outputs": []
    },
    {
      "cell_type": "code",
      "metadata": {
        "scrolled": false,
        "id": "SmXwulSYf7J1",
        "colab_type": "code",
        "colab": {}
      },
      "source": [
        "# train and evaluate the chunker \n",
        "chunker = ConsecutiveNPChunker(train_trees)\n",
        "print(chunker.evaluate(valid_trees))"
      ],
      "execution_count": 0,
      "outputs": []
    },
    {
      "cell_type": "markdown",
      "metadata": {
        "id": "6CXA5-Hyf7J3",
        "colab_type": "text"
      },
      "source": [
        "We can also see the most informative features of the NLTK NB classifier."
      ]
    },
    {
      "cell_type": "code",
      "metadata": {
        "scrolled": true,
        "id": "rywFGCQjf7J5",
        "colab_type": "code",
        "colab": {}
      },
      "source": [
        "# most top-N informative features\n",
        "chunker.tagger.classifier.show_most_informative_features(15)"
      ],
      "execution_count": 0,
      "outputs": []
    },
    {
      "cell_type": "markdown",
      "metadata": {
        "id": "jrtRvUBpf7J8",
        "colab_type": "text"
      },
      "source": [
        "We can see that some informative features are ```pos```, ```word```, ```word_is_digit``` etc.\n",
        "\n",
        "When pos=JJS (superlative adjective e.g. *\"cheapest\"*), the ratio of probability of the labels ```B-cost:O``` is about 14237:1. Similarly, the features ```word``` and ```word_is_digit``` are very strong indicators of the labels ```B-depa``` and ```I-depa``` (departure time e.g. *\"after DIGIT pm\"*)."
      ]
    },
    {
      "cell_type": "markdown",
      "metadata": {
        "id": "dgggnedyf7J8",
        "colab_type": "text"
      },
      "source": [
        "We can also try other classifiers that come with NLTK - let's try building a **decision tree**."
      ]
    },
    {
      "cell_type": "code",
      "metadata": {
        "id": "sLLb9JFAf7J_",
        "colab_type": "code",
        "colab": {}
      },
      "source": [
        "# Decision Tree Classifier\n",
        "class ConsecutiveNPChunkTagger(nltk.TaggerI): \n",
        "\n",
        "    def __init__(self, train_sents):\n",
        "        train_set = []\n",
        "        for tagged_sent in train_sents:\n",
        "            untagged_sent = nltk.tag.untag(tagged_sent)\n",
        "            history = []\n",
        "            # compute features for each word\n",
        "            for i, (word, tag) in enumerate(tagged_sent):\n",
        "                featureset = npchunk_features(untagged_sent, i, history) \n",
        "                train_set.append( (featureset, tag) )\n",
        "                history.append(tag)\n",
        "        self.classifier = nltk.DecisionTreeClassifier.train(train_set)\n",
        "\n",
        "    def tag(self, sentence):\n",
        "        history = []\n",
        "        for i, word in enumerate(sentence):\n",
        "            featureset = npchunk_features(sentence, i, history)\n",
        "            tag = self.classifier.classify(featureset)\n",
        "            history.append(tag)\n",
        "        return zip(sentence, history)\n",
        "\n",
        "class ConsecutiveNPChunker(nltk.ChunkParserI): \n",
        "    def __init__(self, train_sents):\n",
        "        tagged_sents = [[((w,t),c) for (w,t,c) in\n",
        "                         nltk.chunk.tree2conlltags(sent)]\n",
        "                        for sent in train_sents]\n",
        "        self.tagger = ConsecutiveNPChunkTagger(tagged_sents)\n",
        "\n",
        "    def parse(self, sentence):\n",
        "        tagged_sents = self.tagger.tag(sentence)\n",
        "        conlltags = [(w,t,c) for ((w,t),c) in tagged_sents]\n",
        "        return nltk.chunk.conlltags2tree(conlltags)"
      ],
      "execution_count": 0,
      "outputs": []
    },
    {
      "cell_type": "code",
      "metadata": {
        "scrolled": true,
        "id": "YN60YXidf7Kh",
        "colab_type": "code",
        "colab": {}
      },
      "source": [
        "# train and evaluate the decision tree chunker\n",
        "tree_chunker = ConsecutiveNPChunker(train_trees)\n",
        "print(tree_chunker.evaluate(valid_trees))"
      ],
      "execution_count": 0,
      "outputs": []
    },
    {
      "cell_type": "markdown",
      "metadata": {
        "id": "BQWwMICif7Kn",
        "colab_type": "text"
      },
      "source": [
        "The performance of decision trees is much better compared to the Naive Bayes classifier. We can of course also tune the decision tree hyperparameters (maxdepth, num_leaves, min_sample_split etc.), but we'll skip that for now.\n",
        "\n",
        "Having tried some classification models, let us now try another extremely useful and popular model for sequence classification - **conditional random fields**."
      ]
    },
    {
      "cell_type": "markdown",
      "metadata": {
        "id": "8gXr1snrf7Kn",
        "colab_type": "text"
      },
      "source": [
        "## Conditional Random Fields (CRF)\n"
      ]
    },
    {
      "cell_type": "markdown",
      "metadata": {
        "id": "8EskMUt7f7Ko",
        "colab_type": "text"
      },
      "source": [
        "Let's now build a CRF classifier. In sklearn, CRFs are implemented in the library ```sklearn_crfsuite```."
      ]
    },
    {
      "cell_type": "code",
      "metadata": {
        "id": "VRrq_KHLf7Kq",
        "colab_type": "code",
        "colab": {}
      },
      "source": [
        "# import relevant libraries\n",
        "from itertools import chain\n",
        "import sklearn\n",
        "from sklearn.metrics import classification_report, confusion_matrix\n",
        "from sklearn.preprocessing import LabelBinarizer\n",
        "\n",
        "# pip/conda install sklearn_crfsuite\n",
        "import sklearn_crfsuite\n",
        "from sklearn_crfsuite import metrics\n",
        "from sklearn_crfsuite import scorers\n"
      ],
      "execution_count": 0,
      "outputs": []
    },
    {
      "cell_type": "markdown",
      "metadata": {
        "id": "IDrmzdkAf7Ks",
        "colab_type": "text"
      },
      "source": [
        "Let's define a function to extract features from a given sentence. This is similar to the ```npchunk_features()``` function defined above, but we'll add some new features as well such as the **suffix** of the word (upto the last 4 characters), **prefix** (upto first 4 characters) etc.\n",
        "\n",
        "The list of features we'll extract is as follows:\n",
        "```\n",
        "{\n",
        "            'word':word,\n",
        "            'pos': pos, \n",
        "            'prevword': prevword,\n",
        "            'prevpos': prevpos,  \n",
        "            'nextword': nextword, \n",
        "            'nextpos': nextpos,\n",
        "            'word_is_city': gazetteer[0],\n",
        "            'word_is_state': gazetteer[1],\n",
        "            'word_is_county': gazetteer[2],\n",
        "            'word_is_digit': word in 'DIGITDIGITDIGIT',\n",
        "            'suff_1': suff_1,  \n",
        "            'suff_2': suff_2,  \n",
        "            'suff_3': suff_3,  \n",
        "            'suff_4': suff_4, \n",
        "            'pref_1': pref_1,  \n",
        "            'pref_2': pref_2,  \n",
        "            'pref_3': pref_3, \n",
        "            'pref_4': pref_4 \n",
        "\n",
        "}\n",
        "```\n",
        "\n"
      ]
    },
    {
      "cell_type": "code",
      "metadata": {
        "id": "tBldudeTf7Kv",
        "colab_type": "code",
        "colab": {}
      },
      "source": [
        "# extract features from a given sentence\n",
        "def word_features(sent, i):\n",
        "    word = sent[i][0]\n",
        "    pos = sent[i][1]\n",
        "    \n",
        "    # first word\n",
        "    if i==0:\n",
        "        prevword = '<START>'\n",
        "        prevpos = '<START>'\n",
        "    else:\n",
        "        prevword = sent[i-1][0]\n",
        "        prevpos = sent[i-1][1]\n",
        "    \n",
        "    # last word\n",
        "    if i == len(sent)-1:\n",
        "        nextword = '<END>'\n",
        "        nextpos = '<END>'\n",
        "    else:\n",
        "        nextword = sent[i+1][0]\n",
        "        nextpos = sent[i+1][1]\n",
        "    \n",
        "    # word is in gazetteer\n",
        "    gazetteer = gazetteer_lookup(word)\n",
        "    \n",
        "    # suffixes and prefixes\n",
        "    pref_1, pref_2, pref_3, pref_4 = word[:1], word[:2], word[:3], word[:4]\n",
        "    suff_1, suff_2, suff_3, suff_4 = word[-1:], word[-2:], word[-3:], word[-4:]\n",
        "    \n",
        "    return {'word':word,\n",
        "            'pos': pos, \n",
        "            'prevword': prevword,\n",
        "            'prevpos': prevpos,  \n",
        "            'nextword': nextword, \n",
        "            'nextpos': nextpos,\n",
        "            'word_is_city': gazetteer[0],\n",
        "            'word_is_state': gazetteer[1],\n",
        "            'word_is_county': gazetteer[2],\n",
        "            'word_is_digit': word in 'DIGITDIGITDIGIT',\n",
        "            'suff_1': suff_1,  \n",
        "            'suff_2': suff_2,  \n",
        "            'suff_3': suff_3,  \n",
        "            'suff_4': suff_4, \n",
        "            'pref_1': pref_1,  \n",
        "            'pref_2': pref_2,  \n",
        "            'pref_3': pref_3, \n",
        "            'pref_4': pref_4 }  "
      ],
      "execution_count": 0,
      "outputs": []
    },
    {
      "cell_type": "code",
      "metadata": {
        "id": "oum18Xbff7K4",
        "colab_type": "code",
        "colab": {}
      },
      "source": [
        "# example features: third word of the first training sentence\n",
        "word_features(train_labels[0], i=3)"
      ],
      "execution_count": 0,
      "outputs": []
    },
    {
      "cell_type": "markdown",
      "metadata": {
        "id": "uC5zaeYjf7K7",
        "colab_type": "text"
      },
      "source": [
        "Let's now write some functions to convert the training, validation and test datasets to the format required by the sklearn CRF classifier. The structure of the training sentences is as given below."
      ]
    },
    {
      "cell_type": "code",
      "metadata": {
        "scrolled": true,
        "id": "_Bqejkdnf7K8",
        "colab_type": "code",
        "colab": {}
      },
      "source": [
        "# structure of train/validation data\n",
        "train_labels[0]"
      ],
      "execution_count": 0,
      "outputs": []
    },
    {
      "cell_type": "markdown",
      "metadata": {
        "id": "NPQmgkzwf7LJ",
        "colab_type": "text"
      },
      "source": [
        "We'll define three functions below - ```sent2features()``` creates word features for each word in a given sentence while ```sent2labels``` extracts the label of each word in a given sentence."
      ]
    },
    {
      "cell_type": "code",
      "metadata": {
        "id": "ItcXam6zf7LL",
        "colab_type": "code",
        "colab": {}
      },
      "source": [
        "# defining a few more functions to extract featrues, labels, words from sentences\n",
        "\n",
        "def sent2features(sent):\n",
        "    return [word_features(sent, i) for i in range(len(sent))]\n",
        "\n",
        "def sent2labels(sent):\n",
        "    return [label for token, postag, label in sent]\n",
        "\n",
        "def sent2tokens(sent):\n",
        "    return [token for token, postag, label in sent]    "
      ],
      "execution_count": 0,
      "outputs": []
    },
    {
      "cell_type": "markdown",
      "metadata": {
        "id": "oCP5zZcjf7LO",
        "colab_type": "text"
      },
      "source": [
        "Now, let's convert the training data into a standard format - ```X_train``` is a list of sentences, where each sentence is a list of word_features (dicts). The list ```y_train``` is a list of sentences, each sentence further being a list of labels."
      ]
    },
    {
      "cell_type": "code",
      "metadata": {
        "id": "n2SeF-zif7LP",
        "colab_type": "code",
        "colab": {}
      },
      "source": [
        " # create training, validation and test sets\n",
        "X_train = [sent2features(s) for s in train_labels]\n",
        "y_train = [sent2labels(s) for s in train_labels]\n",
        "\n",
        "X_valid = [sent2features(s) for s in valid_labels]\n",
        "y_valid = [sent2labels(s) for s in valid_labels]\n",
        "\n",
        "X_test = [sent2features(s) for s in test_labels]\n",
        "y_test = [sent2labels(s) for s in test_labels]"
      ],
      "execution_count": 0,
      "outputs": []
    },
    {
      "cell_type": "code",
      "metadata": {
        "scrolled": true,
        "id": "H70SWuTXf7LS",
        "colab_type": "code",
        "colab": {}
      },
      "source": [
        "# X_train is a list of sentences within which each feature has a corresponding dict of features\n",
        "# first few words (each word has a feature dict) of the first sentence in X_train\n",
        "X_train[0][:2]"
      ],
      "execution_count": 0,
      "outputs": []
    },
    {
      "cell_type": "code",
      "metadata": {
        "id": "ayL3WbNBf7LU",
        "colab_type": "code",
        "colab": {}
      },
      "source": [
        "# labels of the first sentence\n",
        "y_train[0]"
      ],
      "execution_count": 0,
      "outputs": []
    },
    {
      "cell_type": "markdown",
      "metadata": {
        "id": "jPr4HtKif7LW",
        "colab_type": "text"
      },
      "source": [
        "Let's now fit a CRF with arbitrary hyperparameters. "
      ]
    },
    {
      "cell_type": "code",
      "metadata": {
        "id": "eilwfePmf7LX",
        "colab_type": "code",
        "colab": {}
      },
      "source": [
        "# fitting crf with arbitrary hyperparameters\n",
        "crf = sklearn_crfsuite.CRF(\n",
        "    algorithm='lbfgs',\n",
        "    c1=0.01,\n",
        "    c2=0.1,\n",
        "    max_iterations=100,\n",
        "    all_possible_transitions=True\n",
        ")\n",
        "crf.fit(X_train, y_train)"
      ],
      "execution_count": 0,
      "outputs": []
    },
    {
      "cell_type": "markdown",
      "metadata": {
        "id": "wpfcQaX9f7LZ",
        "colab_type": "text"
      },
      "source": [
        "Let's now remove the label 'O' from the list of labels (can be accessed through ```crf.classes_```). This is because we'll only measure the metrics for other less frequent classes."
      ]
    },
    {
      "cell_type": "code",
      "metadata": {
        "id": "m0EvW2uof7Le",
        "colab_type": "code",
        "colab": {}
      },
      "source": [
        "# remove 'O' from the labels\n",
        "labels = list(crf.classes_)\n",
        "# labels.remove('O')\n",
        "# labels[:5]"
      ],
      "execution_count": 0,
      "outputs": []
    },
    {
      "cell_type": "markdown",
      "metadata": {
        "id": "68ttCMhaf7Lt",
        "colab_type": "text"
      },
      "source": [
        "Now let's make predictions using the validation data and evaluate model performance. The metric we'll use for evaluation is ```flat_f1_score``` which is a weighed average of each class' f1-scores."
      ]
    },
    {
      "cell_type": "code",
      "metadata": {
        "scrolled": true,
        "id": "9KxlHhLIf7Lu",
        "colab_type": "code",
        "colab": {}
      },
      "source": [
        "# make predictions \n",
        "y_pred = crf.predict(X_valid)\n",
        "metrics.flat_f1_score(y_valid, y_pred,\n",
        "                      average='weighted', labels=labels)"
      ],
      "execution_count": 0,
      "outputs": []
    },
    {
      "cell_type": "markdown",
      "metadata": {
        "id": "gQWKqMXAf7Lx",
        "colab_type": "text"
      },
      "source": [
        "The overall score does not give a detailed picture of how respective classes are performing. For e.g. we'd want to know how many ```fromloc.city_name``` and ```toloc.city_name``` are correctly identified. \n",
        "\n",
        "We can see the class-wise evaluation metrics using sklearn's ```classification_report```. The metrics precision, recall and f1-score are as usual, while support represents the number of instances of the respective class in the training data."
      ]
    },
    {
      "cell_type": "code",
      "metadata": {
        "scrolled": true,
        "id": "I9DnXMBMf7Ly",
        "colab_type": "code",
        "colab": {}
      },
      "source": [
        "# class-wise scores\n",
        "sorted_labels = sorted(\n",
        "    labels,\n",
        "    key=lambda name: (name[1:], name[0])\n",
        ")\n",
        "print(metrics.flat_classification_report(\n",
        "    y_valid, y_pred, labels=sorted_labels, digits=3\n",
        "))"
      ],
      "execution_count": 0,
      "outputs": []
    },
    {
      "cell_type": "markdown",
      "metadata": {
        "id": "Xz6r7IVGf7L1",
        "colab_type": "text"
      },
      "source": [
        "The classification report tells us that:\n",
        "- The overall f1-score (a weighted average of overall precision and recall) is 93.7%\n",
        "- The *important* classes, i.e. those with high frequency such as ```B-fromloc.city_name```, ```B-toloc.city_name```, ```B-depart_date.day_name``` etc. are performing well\n",
        "\n",
        "Let's now try tuning the hyperparameters of CRF using grid search CV."
      ]
    },
    {
      "cell_type": "code",
      "metadata": {
        "id": "u3Kjd79Jf7L1",
        "colab_type": "code",
        "colab": {}
      },
      "source": [
        "# hyperparameter tuning\n",
        "\n",
        "# define fixed parameters and parameters to search\n",
        "crf = sklearn_crfsuite.CRF(\n",
        "    algorithm='lbfgs',\n",
        "    max_iterations=100,\n",
        "    all_possible_transitions=True\n",
        ")\n",
        "\n",
        "# parameters to tune\n",
        "params_space = {\n",
        "    'c1': [0.01, 0.1, 1],\n",
        "    'c2': [0.01, 0.1, 1]\n",
        "}\n",
        "\n",
        "# use the same metric for evaluation\n",
        "f1_scorer = scorers.make_scorer(metrics.flat_f1_score,\n",
        "                        average='weighted', labels=labels)"
      ],
      "execution_count": 0,
      "outputs": []
    },
    {
      "cell_type": "code",
      "metadata": {
        "scrolled": true,
        "id": "67FgKrhFf7L3",
        "colab_type": "code",
        "colab": {}
      },
      "source": [
        "# instantiate a GridSearchCV object\n",
        "rs = GridSearchCV(crf, \n",
        "                  params_space,\n",
        "                  cv=3,\n",
        "                  verbose=1,\n",
        "                  n_jobs=-1,\n",
        "                  scoring=f1_scorer, \n",
        "                  return_train_score=True)\n",
        "# fit\n",
        "rs.fit(X_train, y_train)"
      ],
      "execution_count": 0,
      "outputs": []
    },
    {
      "cell_type": "code",
      "metadata": {
        "scrolled": true,
        "id": "16XYNzw0f7L7",
        "colab_type": "code",
        "colab": {}
      },
      "source": [
        "# store CV results in a DF\n",
        "cv_results = pd.DataFrame(rs.cv_results_)\n",
        "cv_results"
      ],
      "execution_count": 0,
      "outputs": []
    },
    {
      "cell_type": "code",
      "metadata": {
        "id": "wfh4E5yMf7MB",
        "colab_type": "code",
        "colab": {}
      },
      "source": [
        "# plotting CV results\n",
        "# for each value of c2, make a plot of c1 versus train and test f1-score\n",
        "\n",
        "plt.figure(figsize=(16,6))\n",
        "\n",
        "for i, val in enumerate(params_space['c2']):\n",
        "   \n",
        "    # subplot 1/3/i\n",
        "    plt.subplot(1, 3, i+1)\n",
        "    c2_subset = cv_results[cv_results['param_c2']==val]\n",
        "\n",
        "    plt.plot(c2_subset[\"param_c1\"], c2_subset[\"mean_validation_score\"])\n",
        "    plt.plot(c2_subset[\"param_c1\"], c2_subset[\"mean_train_score\"])\n",
        "    plt.xlabel('c1')\n",
        "    plt.ylabel('Mean F-score')\n",
        "    plt.title(\"c2={0}\".format(val))\n",
        "    plt.ylim([0.80, 1])\n",
        "    plt.legend(['validation score', 'train score'], loc='upper left')\n",
        "    plt.xscale('log')"
      ],
      "execution_count": 0,
      "outputs": []
    },
    {
      "cell_type": "markdown",
      "metadata": {
        "id": "Pnyo3nDLf7ME",
        "colab_type": "text"
      },
      "source": [
        "The plot above shows that at very low values of c_1, the model overfits, as shown by the difference in training and test performance. Also, the test score seems to be slightly higher for c_2 = 0.1.\n",
        "\n",
        "Let's thus choose c_1 = 0.1 and c_2 = 0.1. "
      ]
    },
    {
      "cell_type": "code",
      "metadata": {
        "scrolled": true,
        "id": "8W_aI5GYf7MF",
        "colab_type": "code",
        "colab": {}
      },
      "source": [
        "# building a model with optimal hyperparams\n",
        "crf = sklearn_crfsuite.CRF(\n",
        "    algorithm='lbfgs',\n",
        "    c1=0.1,\n",
        "    c2=0.1,\n",
        "    max_iterations=100,\n",
        "    all_possible_transitions=True\n",
        ")\n",
        "crf.fit(X_train, y_train)"
      ],
      "execution_count": 0,
      "outputs": []
    },
    {
      "cell_type": "markdown",
      "metadata": {
        "id": "Zn0yI9Zqf7MJ",
        "colab_type": "text"
      },
      "source": [
        "Having tuned the model, we can now save (dump) it to a a pickle file so that we can simply import it and use later for predictions."
      ]
    },
    {
      "cell_type": "code",
      "metadata": {
        "id": "9dZgaTA4f7MR",
        "colab_type": "code",
        "colab": {}
      },
      "source": [
        "# save the model to a pickle file\n",
        "import _pickle as cPickle\n",
        "\n",
        "with open('tuned_crf_classifier.pkl', 'wb') as clf:\n",
        "    try:\n",
        "        cPickle.dump(crf, clf)\n",
        "    except Exception as e:\n",
        "        print(e)\n",
        "    finally:\n",
        "        clf.close()   "
      ],
      "execution_count": 0,
      "outputs": []
    },
    {
      "cell_type": "markdown",
      "metadata": {
        "id": "ait8eJpFf7MT",
        "colab_type": "text"
      },
      "source": [
        "Now let's load the dumped model from the pkl file and use it for predictions."
      ]
    },
    {
      "cell_type": "code",
      "metadata": {
        "id": "dMuuRNZMf7MT",
        "colab_type": "code",
        "colab": {}
      },
      "source": [
        "# load the trained model\n",
        "import _pickle as cPickle\n",
        "\n",
        "with open('tuned_crf_classifier.pkl', 'rb') as fid:\n",
        "    crf = cPickle.load(fid)"
      ],
      "execution_count": 0,
      "outputs": []
    },
    {
      "cell_type": "markdown",
      "metadata": {
        "id": "NdMhgSNNf7MW",
        "colab_type": "text"
      },
      "source": [
        "### Making Predictions \n",
        "\n",
        "Let's now use the trained model to make predictions. "
      ]
    },
    {
      "cell_type": "code",
      "metadata": {
        "scrolled": false,
        "id": "jMtmT1Xif7MX",
        "colab_type": "code",
        "colab": {}
      },
      "source": [
        "# remove 'O' from the labels\n",
        "labels =list(crf.classes_)\n",
        "\n",
        "\n",
        "# make predictions on validation data\n",
        "y_pred = crf.predict(X_valid)\n",
        "metrics.flat_f1_score(y_valid, y_pred,\n",
        "                      average='weighted', labels=labels)"
      ],
      "execution_count": 0,
      "outputs": []
    },
    {
      "cell_type": "markdown",
      "metadata": {
        "id": "09fdTZtDf7MZ",
        "colab_type": "text"
      },
      "source": [
        "The overall f1-score is comparable to that on training (cross-validation) data (which was about 93% on the test folds and 97% on training folds). Let's look at class-wise metrics as well."
      ]
    },
    {
      "cell_type": "code",
      "metadata": {
        "scrolled": false,
        "id": "ASRkrtL6f7Ma",
        "colab_type": "code",
        "colab": {}
      },
      "source": [
        "# class-wise scores on validation data\n",
        "sorted_labels = sorted(\n",
        "    labels,\n",
        "    key=lambda name: (name[1:], name[0])\n",
        ")\n",
        "print(metrics.flat_classification_report(\n",
        "    y_valid, y_pred, labels=sorted_labels, digits=3\n",
        "))"
      ],
      "execution_count": 0,
      "outputs": []
    },
    {
      "cell_type": "markdown",
      "metadata": {
        "id": "COb2j0fKf7Ml",
        "colab_type": "text"
      },
      "source": [
        "Let's also make predictions on the test set and see the results. "
      ]
    },
    {
      "cell_type": "code",
      "metadata": {
        "id": "ULntRvc7f7Mm",
        "colab_type": "code",
        "colab": {}
      },
      "source": [
        "# test data predictions\n",
        "# make predictions on validation data\n",
        "y_pred_test = crf.predict(X_test)\n",
        "metrics.flat_f1_score(y_test, y_pred_test,\n",
        "                      average='weighted', labels=labels)"
      ],
      "execution_count": 0,
      "outputs": []
    },
    {
      "cell_type": "markdown",
      "metadata": {
        "id": "ozJZBySpf7Mo",
        "colab_type": "text"
      },
      "source": [
        "### Understanding the CRF Classifier\n",
        "\n",
        "Let's now understand what the classifier has learnt. The method ```crf.transition_features_``` returns a dict of key:value = (label-1, label-2):coef pairs - each key-val pair representing the transition coefficient from label-1 to label-2.\n",
        "\n",
        "The ```Counter``` class from the collections module provides a convenient way of counting and printing the frequency of items (the top-N or bottom counts). Read the <a href=\"https://docs.python.org/2/library/collections.html\">docs of Counter class here.</a>"
      ]
    },
    {
      "cell_type": "code",
      "metadata": {
        "id": "Ao6raWFjf7Mo",
        "colab_type": "code",
        "colab": {}
      },
      "source": [
        "# look up more attributes and methods of sklearn crf\n",
        "# help(crf)"
      ],
      "execution_count": 0,
      "outputs": []
    },
    {
      "cell_type": "code",
      "metadata": {
        "scrolled": false,
        "id": "k-hgiuZTf7Mp",
        "colab_type": "code",
        "colab": {}
      },
      "source": [
        "from collections import Counter\n",
        "\n",
        "def print_transitions(trans_features):\n",
        "    for (label_from, label_to), weight in trans_features:\n",
        "        print(\"%-6s -> %-7s %0.6f\" % (label_from, label_to, weight))\n",
        "\n",
        "print(\"Top likely transitions:\")\n",
        "print_transitions(Counter(crf.transition_features_).most_common(20))\n",
        "\n",
        "print(\"\\nTop unlikely transitions:\")\n",
        "print_transitions(Counter(crf.transition_features_).most_common()[-20:])"
      ],
      "execution_count": 0,
      "outputs": []
    },
    {
      "cell_type": "markdown",
      "metadata": {
        "id": "K-h3krjdf7M1",
        "colab_type": "text"
      },
      "source": [
        "The results show that the transitions ```B-fromloc.airport_name -> I-fromloc.airport_name```, ```B-depart_date.month_name -> B-depart_date.day_number``` are very likely. You can also see the unlikely transitions.\n",
        "\n",
        "We can also see the most useful (discriminative) features."
      ]
    },
    {
      "cell_type": "code",
      "metadata": {
        "id": "ioNIa1Bxf7M2",
        "colab_type": "code",
        "colab": {}
      },
      "source": [
        "# important features\n",
        "def print_state_features(state_features):\n",
        "    for (attr, label), weight in state_features:\n",
        "        print(\"%0.6f %-8s %s\" % (weight, label, attr))\n",
        "\n",
        "print(\"Top positive:\")\n",
        "print_state_features(Counter(crf.state_features_).most_common(30))\n",
        "\n",
        "print(\"\\nTop negative:\")\n",
        "print_state_features(Counter(crf.state_features_).most_common()[-30:])"
      ],
      "execution_count": 0,
      "outputs": []
    },
    {
      "cell_type": "markdown",
      "metadata": {
        "id": "0GhIc8pof7NH",
        "colab_type": "text"
      },
      "source": [
        "Now that we have a trained tagger and have looked at the overall metrics, let's zoom in and look at the actual and predicted labels of some sample sentences."
      ]
    },
    {
      "cell_type": "code",
      "metadata": {
        "scrolled": false,
        "id": "upF58KZ9f7NI",
        "colab_type": "code",
        "colab": {}
      },
      "source": [
        "# tagging a sample sentence (first validation sentence)\n",
        "i = 0\n",
        "sample_sent = valid_labels[i]\n",
        "print(' '.join(sent2tokens(sample_sent)), end='\\n')"
      ],
      "execution_count": 0,
      "outputs": []
    },
    {
      "cell_type": "code",
      "metadata": {
        "id": "JYa_NsUAf7NM",
        "colab_type": "code",
        "colab": {}
      },
      "source": [
        "# compare the predicted and actual labels for a query\n",
        "print(\"Predicted:\", \"\\n\",' '.join(y_pred[0]))\n",
        "print('\\n')\n",
        "print(\"Correct:\", \"\\n\" ,' '.join(sent2labels(sample_sent)))"
      ],
      "execution_count": 0,
      "outputs": []
    },
    {
      "cell_type": "markdown",
      "metadata": {
        "id": "jSUFCmrXf7NQ",
        "colab_type": "text"
      },
      "source": [
        "### Converting Predicted Labels to Trees and Traversing Them\n",
        "\n",
        "Let's now see how we can use the trained model to make predictions on unseen data and extract useful entities from it.\n",
        "\n",
        "Once we predict the labels of a sentence, we want to extract useful entities from it. In the following code, we first append the predicted labels to the (word, pos) sentence to get tuples of (word, pos, predicted_label). Then we convert the list to tree format, as seen earlier, and traverse the tree to extract useful entities. \n",
        "\n"
      ]
    },
    {
      "cell_type": "code",
      "metadata": {
        "id": "U7ZngnvBf7NT",
        "colab_type": "code",
        "colab": {}
      },
      "source": [
        "# function to create (word, pos_tag, predicted_iob_label) tuples for a given dataset\n",
        "def append_predicted_tags(pos_tagged_data, labels):\n",
        "    iob_labels = []\n",
        "    for sent in list(zip(pos_tagged_data, labels)):\n",
        "        pos = sent[0]\n",
        "        labels = sent[1]\n",
        "        l = list(zip(pos, labels))\n",
        "        tuple_3 = [(word_pos[0], word_pos[1], label) for (word_pos, label) in l]\n",
        "        iob_labels.append(tuple_3)\n",
        "    return iob_labels"
      ],
      "execution_count": 0,
      "outputs": []
    },
    {
      "cell_type": "code",
      "metadata": {
        "scrolled": true,
        "id": "-Akqh7JNf7NY",
        "colab_type": "code",
        "colab": {}
      },
      "source": [
        "# predictions of IOB tags on a sample validation sentence \n",
        "valid_tags = append_predicted_tags(valid_pos, y_pred)\n",
        "valid_tags[0]"
      ],
      "execution_count": 0,
      "outputs": []
    },
    {
      "cell_type": "markdown",
      "metadata": {
        "id": "QZ0au-h8f7NZ",
        "colab_type": "text"
      },
      "source": [
        "Now, we can convert the predicted sentence labels to a tree format and traverse the tree to extarct useful entities."
      ]
    },
    {
      "cell_type": "code",
      "metadata": {
        "scrolled": false,
        "id": "pjudVwIjf7Nb",
        "colab_type": "code",
        "colab": {}
      },
      "source": [
        "# create a tree using the assigned iob labels\n",
        "valid_trees = [conlltags2tree(sent) for sent in valid_tags]\n",
        "print(valid_trees[0])"
      ],
      "execution_count": 0,
      "outputs": []
    },
    {
      "cell_type": "markdown",
      "metadata": {
        "id": "98DgyQaof7Nf",
        "colab_type": "text"
      },
      "source": [
        "One can similarly make predictions on the test dataset and store them in tree format."
      ]
    },
    {
      "cell_type": "code",
      "metadata": {
        "id": "-999dfqDf7Ng",
        "colab_type": "code",
        "colab": {}
      },
      "source": [
        "# append test data predicted tags\n",
        "test_tags = append_predicted_tags(test_pos, y_pred_test)\n",
        "test_trees = [conlltags2tree(sent) for sent in test_tags]\n",
        "print(test_trees[0])"
      ],
      "execution_count": 0,
      "outputs": []
    },
    {
      "cell_type": "markdown",
      "metadata": {
        "id": "lh8xfDXef7Nm",
        "colab_type": "text"
      },
      "source": [
        "### Traversing a Chunked Tree\n",
        "\n",
        "Now that we have labelled the validation and test datasets, let's see how we can traverse the trees. The following code shows a sample predicted validation query and extracts all the 'chunks' from the tree.\n",
        "\n",
        "In NLTK, trees are stored as objects of the ```Tree``` class, and each chunk of a tree is itself a subtree of the ```Tree``` class. Below, we traverse a sample tree, check whether a given object in the tree is an object  ```Tree``` (i.e. a chunk), and prints the *label* and the *leaves* of the chunk subtree."
      ]
    },
    {
      "cell_type": "code",
      "metadata": {
        "scrolled": true,
        "id": "Ut-EiQqHf7Nn",
        "colab_type": "code",
        "colab": {}
      },
      "source": [
        "# choose a random predicted tree\n",
        "i = random.randrange(len(valid_trees))\n",
        "\n",
        "# print the string version of the chosen sentence\n",
        "chunked_tree = valid_trees[i]\n",
        "print(' '.join([id_to_words[val] for val in val_x[i]]), '\\n')\n",
        "\n",
        "# traverse the tree and print labels of subtrees \n",
        "for n in chunked_tree:\n",
        "    if isinstance(n, nltk.tree.Tree):\n",
        "        print(n.label(), n.leaves())"
      ],
      "execution_count": 0,
      "outputs": []
    },
    {
      "cell_type": "code",
      "metadata": {
        "scrolled": false,
        "id": "Sch5dvisf7Ns",
        "colab_type": "code",
        "colab": {}
      },
      "source": [
        "# correctly parsed complex queries - i= 771, 410, 25, 473, 23, 498, 893, 882, 694\n",
        "# ambiguous queries: not many so far\n",
        "i"
      ],
      "execution_count": 0,
      "outputs": []
    },
    {
      "cell_type": "markdown",
      "metadata": {
        "id": "CC5gMELjf7Nv",
        "colab_type": "text"
      },
      "source": [
        "The sections beyond this on building an application are totally optional. \n",
        "<hr><hr><hr>"
      ]
    },
    {
      "cell_type": "markdown",
      "metadata": {
        "id": "TDaDsAVKf7Nv",
        "colab_type": "text"
      },
      "source": [
        "## Building an Application"
      ]
    },
    {
      "cell_type": "markdown",
      "metadata": {
        "id": "IIlvwkv1f7Nw",
        "colab_type": "text"
      },
      "source": [
        "Now that we can extract the chunks from any given user query, we need to decide which chunks  we actually need for our application and extract only those. \n",
        "\n",
        "Firstly, note that although there are a variety of labels/chunk types, only a few occur in majority of user queries. \n",
        "\n",
        "Secondly, while building an application to make flight reservations, you may be using an API/database to fetch the requested flight data, and the API/database may only provide certain types of information. For e.g. if the API does not provide any info about *meals* in flights, there may be no use extracting the entity ```meal_description```.\n",
        "\n",
        "Let's look at both the variety and frequency of entities. "
      ]
    },
    {
      "cell_type": "code",
      "metadata": {
        "id": "T1w_rMXwf7Nw",
        "colab_type": "code",
        "colab": {}
      },
      "source": [
        "# list all labels of train trees\n",
        "tree_labels = []\n",
        "for tree in train_trees:\n",
        "    for n in tree:\n",
        "        if isinstance(n, nltk.tree.Tree):\n",
        "            tree_labels.append(n.label())"
      ],
      "execution_count": 0,
      "outputs": []
    },
    {
      "cell_type": "code",
      "metadata": {
        "id": "bO-ZCFW-f7N4",
        "colab_type": "code",
        "colab": {}
      },
      "source": [
        "# training set has 78 unique labels\n",
        "label_set = set(tree_labels)\n",
        "len(label_set)"
      ],
      "execution_count": 0,
      "outputs": []
    },
    {
      "cell_type": "markdown",
      "metadata": {
        "id": "ogm1sy7of7N6",
        "colab_type": "text"
      },
      "source": [
        "There are 78 types of labels/entities in the training set (there might be some more in validation / test as well, though not many). Let's now look at the frequency of chunk types."
      ]
    },
    {
      "cell_type": "code",
      "metadata": {
        "id": "kN0S0k9Sf7N9",
        "colab_type": "code",
        "colab": {}
      },
      "source": [
        "# frequency of chunk types/labels\n",
        "# from collections import Counter\n",
        "c = Counter(tree_labels)\n",
        "pprint.pprint(c.most_common(10))"
      ],
      "execution_count": 0,
      "outputs": []
    },
    {
      "cell_type": "markdown",
      "metadata": {
        "scrolled": true,
        "id": "BcHJ-vjif7N_",
        "colab_type": "text"
      },
      "source": [
        "The dict above shows the frequency of each chunk type in the training set. As expected, the most frequent ones are ```toloc.city_name```, ```fromloc.city_name```, ```depart_date.day_name``` etc.\n",
        "\n",
        "In the section below, we will extract some common entities from a given sentence and use <a href=\"https://developer.flightstats.com/\">the flightstats API</a> to query flight schedules data. \n",
        "\n",
        "For now, we'll extract only ```fromloc.city_name```, ```toloc.city_name```, ```depart_date.day_name```, ```depart_time.period_of_day```, ```depart_date.day_number```, ```depart_date.month_name```, ```depart_time.time_relative```, ```depart_date.today_relative``` and ```depart_time.time```."
      ]
    },
    {
      "cell_type": "code",
      "metadata": {
        "scrolled": false,
        "id": "QM-Ejcucf7OA",
        "colab_type": "code",
        "colab": {}
      },
      "source": [
        "# print the string version of the chosen sentence\n",
        "i = random.randrange(len(valid_trees))\n",
        "# i=408\n",
        "chunked_tree = valid_trees[i]\n",
        "print(' '.join([id_to_words[val] for val in val_x[i]]), '\\n')\n",
        "\n",
        "# acceptable labels\n",
        "extract_labels = [\"fromloc.city_name\", \"toloc.city_name\", \"depart_date.day_name\", \n",
        "                 \"depart_time.period_of_day\", \"depart_date.day_number\", \"depart_date.month_name\",\n",
        "                 \"depart_time.time\", \"depart_time.time_relative\", \"depart_date.today_relative\"]\n",
        "\n",
        "# traverse the tree and print labels of subtrees \n",
        "for n in chunked_tree:\n",
        "    if isinstance(n, nltk.tree.Tree) and \\\n",
        "     n.label() in extract_labels:\n",
        "        print(n.label(), n.leaves())"
      ],
      "execution_count": 0,
      "outputs": []
    },
    {
      "cell_type": "code",
      "metadata": {
        "id": "lm30ONk7f7OH",
        "colab_type": "code",
        "colab": {}
      },
      "source": [
        "# complex queries\n",
        "#i = 637, 255, 285\n",
        "\n",
        "# funny query: i=127 (the guy just wants to get away from dallas)\n",
        "i"
      ],
      "execution_count": 0,
      "outputs": []
    },
    {
      "cell_type": "markdown",
      "metadata": {
        "id": "gB_Gj1_Ff7Oc",
        "colab_type": "text"
      },
      "source": [
        "### Querying Data from FlightStats API \n",
        "\n",
        "We'll use the flightstats API for getting data of flight schedules. <a href=\"https://developer.flightstats.com/api-docs/\">The homepage of flightstats API</a> shows the list of all APIs they provide; we'll use <a href=\"https://developer.flightstats.com/api-docs/scheduledFlights/v1\">the Schedules API</a>."
      ]
    },
    {
      "cell_type": "code",
      "metadata": {
        "id": "NXLLcbMJf7Om",
        "colab_type": "code",
        "colab": {}
      },
      "source": [
        "# Useful flightstats URLs\n",
        "# https://developer.flightstats.com/api-docs/scheduledFlights/v1\n",
        "# https://developer.flightstats.com/api-docs/\n",
        "# https://developer.flightstats.com/api-docs/how_to"
      ],
      "execution_count": 0,
      "outputs": []
    },
    {
      "cell_type": "markdown",
      "metadata": {
        "id": "Tneaj60Jf7Oq",
        "colab_type": "text"
      },
      "source": [
        "The flightstats Schedules API provides multiple API call types (mentioned on <a href=\"https://developer.flightstats.com/api-docs/scheduledFlights/v1\">this page</a>). Some of these are also mentioned below.\n",
        "\n",
        "However, we'll only use the following first type of API call, ```from dep_city to arr_city on dep_date```, since it covers the majority of query types.\n",
        "\n"
      ]
    },
    {
      "cell_type": "markdown",
      "metadata": {
        "id": "P5ZpDsHKf7Or",
        "colab_type": "text"
      },
      "source": [
        "<img src=\"api.png\">"
      ]
    },
    {
      "cell_type": "markdown",
      "metadata": {
        "id": "rv-SBPIkf7Os",
        "colab_type": "text"
      },
      "source": [
        "The first step is to sign up and create an app ID and key. The example query below queries the Schedules API to get a list of all flights from airport_code_1 to airport_code_2 departing on a certain date (type-1 API call)."
      ]
    },
    {
      "cell_type": "code",
      "metadata": {
        "scrolled": false,
        "id": "1AKmx5TQf7Os",
        "colab_type": "code",
        "colab": {}
      },
      "source": [
        "# querying flightstats API \n",
        "app_id = '9bed5b33'\n",
        "app_key = 'd7a448569ce9d0821da4fcc9f371e8cc'\n",
        "\n",
        "base_url = 'https://api.flightstats.com/flex/schedules/rest/v1/json/from/'\n",
        "\n",
        "# {departureAirportCode}/to/{arrivalAirportCode}/departing/{year}/{month}/{day}\n",
        "# JFK in new york to LAX in los angeles\n",
        "# make sure to enter a future date, else no data is returned\n",
        "extended_url = 'JFK/to/LAX/departing/2018/7/18'\n",
        "\n",
        "# credentials\n",
        "creds = '?appId={0}&appKey={1}'.format(app_id, app_key)\n",
        "\n",
        "# complete url\n",
        "url = base_url + extended_url + creds\n",
        "print(url)"
      ],
      "execution_count": 0,
      "outputs": []
    },
    {
      "cell_type": "code",
      "metadata": {
        "id": "coZf2pfLf7Ov",
        "colab_type": "code",
        "colab": {}
      },
      "source": [
        "# request data from the API\n",
        "import requests, json\n",
        "data = requests.get(url).json()"
      ],
      "execution_count": 0,
      "outputs": []
    },
    {
      "cell_type": "code",
      "metadata": {
        "scrolled": false,
        "id": "B_-qfaZKf7Oz",
        "colab_type": "code",
        "colab": {}
      },
      "source": [
        "# sample flight details\n",
        "data['scheduledFlights'][1]"
      ],
      "execution_count": 0,
      "outputs": []
    },
    {
      "cell_type": "code",
      "metadata": {
        "scrolled": true,
        "id": "cNSIcUfCf7PD",
        "colab_type": "code",
        "colab": {}
      },
      "source": [
        "# number of flights returned\n",
        "len(data['scheduledFlights'])"
      ],
      "execution_count": 0,
      "outputs": []
    },
    {
      "cell_type": "markdown",
      "metadata": {
        "id": "1OvZdORBf7PG",
        "colab_type": "text"
      },
      "source": [
        "The query above uses airport codes to request the data, but our parser extracts the names of cities (san franciso, new york etc.) rather than airport codes. \n",
        "\n",
        "Thus, we need to convert the city names to flightstats airport codes. We can do that using another flightstats API - *airports*, which returns a list of all airports, their codes, and various other attributes."
      ]
    },
    {
      "cell_type": "code",
      "metadata": {
        "id": "li9dSDK0f7PG",
        "colab_type": "code",
        "colab": {}
      },
      "source": [
        "# data of all active airports\n",
        "base_url = 'https://api.flightstats.com/flex/airports/rest/v1/json/active/'\n",
        "url = base_url + creds\n",
        "data = requests.get(url)\n",
        "airports = data.json()\n",
        "\n",
        "# convert to df\n",
        "airports_df = pd.DataFrame(airports['airports'])\n",
        "airports_df.to_csv('airports.csv')"
      ],
      "execution_count": 0,
      "outputs": []
    },
    {
      "cell_type": "code",
      "metadata": {
        "id": "0HWWg8jXf7PJ",
        "colab_type": "code",
        "colab": {}
      },
      "source": [
        "airports_df = pd.read_csv(\"airports.csv\")\n",
        "airports_df.head()"
      ],
      "execution_count": 0,
      "outputs": []
    },
    {
      "cell_type": "code",
      "metadata": {
        "scrolled": true,
        "id": "wDtnkMsFf7PL",
        "colab_type": "code",
        "colab": {}
      },
      "source": [
        "# looking up 'new york' in the airports dataframe\n",
        "# fs refers to 'flightstats code' of the airport\n",
        "airports_df[airports_df['city'].str.lower() =='new york']"
      ],
      "execution_count": 0,
      "outputs": []
    },
    {
      "cell_type": "markdown",
      "metadata": {
        "id": "BK0O4LLAf7PN",
        "colab_type": "text"
      },
      "source": [
        "The list above shows that New York has multiple airports and thus airport codes (you can check for other cities such as LA etc.). The main airports, however, have the value classification=1 or 2. \n",
        "\n",
        "Let's write a small function which takes in the city name and returns the codes of the main airports."
      ]
    },
    {
      "cell_type": "code",
      "metadata": {
        "id": "cUS89Cb1f7PN",
        "colab_type": "code",
        "colab": {}
      },
      "source": [
        "# extract main airport codes from city name\n",
        "def city_to_airport_code(city):\n",
        "    df = airports_df[(airports_df['city'].str.lower() == city) & \\\n",
        "                ((airports_df['classification'] == 1) | \\\n",
        "                 (airports_df['classification'] == 2))]['fs']\n",
        "    return list(df)\n"
      ],
      "execution_count": 0,
      "outputs": []
    },
    {
      "cell_type": "code",
      "metadata": {
        "scrolled": false,
        "id": "5fx4IWGIf7PQ",
        "colab_type": "code",
        "colab": {}
      },
      "source": [
        "# samples\n",
        "print(city_to_airport_code(\"new york\"))\n",
        "print(city_to_airport_code(\"baltimore\"))\n",
        "print(city_to_airport_code(\"chicago\"))\n",
        "print(city_to_airport_code(\"pittsburgh\"))\n"
      ],
      "execution_count": 0,
      "outputs": []
    },
    {
      "cell_type": "markdown",
      "metadata": {
        "id": "9-ZUCxOtf7PU",
        "colab_type": "text"
      },
      "source": [
        "Now, after extracting the source and destination cities (the entities ```fromloc``` and ```toloc```), we can query the API to get the list of flights. We also have to parse the dates to get the year, month and day."
      ]
    },
    {
      "cell_type": "markdown",
      "metadata": {
        "id": "nQslRA-Ff7PV",
        "colab_type": "text"
      },
      "source": [
        "### Pipeline: From Tree to Flight Data\n",
        "\n",
        "The following pipeline shows the steps to process a given sentence tree (predicted using CRF), extract entities from it, generate a relevant API call, and apply additional constraints to filter the data.\n",
        "\n",
        "There are roughly three layers in the application:\n",
        "1. Extracting structured entities from query tree\n",
        "2. Making the API call to get JSON data\n",
        "3. Applying additional constraints to the retreived data \n",
        "\n",
        "\n",
        "The first layer processes the parsed tree and extracts structured entities so that we can make an API call. For e.g. queries mention dates as \"seventh may\" which needs to be passed to the API as integers (day=7, month=5). Similarly, a request for \"flight on Wednesday\" should query the API for a flight which departs on the closest upcoming Wednesday from the current data. \n",
        "\n",
        "The second layer's task is to make the API call and fetch the data.\n",
        "\n",
        "The third layer applies filters on arrival/departure time, such as 'evening', 'early morning', 'after DIGIT pm' etc. to the retreived data and returns the filtered data to the user.\n"
      ]
    },
    {
      "cell_type": "code",
      "metadata": {
        "id": "VEoeVObNf7PV",
        "colab_type": "code",
        "colab": {}
      },
      "source": [
        "# i=776\n",
        "i"
      ],
      "execution_count": 0,
      "outputs": []
    },
    {
      "cell_type": "code",
      "metadata": {
        "id": "WHJseZJdf7PZ",
        "colab_type": "code",
        "colab": {}
      },
      "source": [
        "## TODO:\n",
        "\n",
        "## Layer-1: \n",
        "# get list of entities from tree\n",
        "# get source and dest cities, dep date\n",
        "\n",
        "def tree_to_dict(tree):\n",
        "    # traverse the tree and store the subtrees/labels and leaves\n",
        "    labels = {}\n",
        "    for n in tree:\n",
        "        if isinstance(n, nltk.tree.Tree) and \\\n",
        "        n.label() in extract_labels:\n",
        "            leaf_str = ' '.join([leaf[0] for leaf in n.leaves()])\n",
        "            labels[n.label()] = leaf_str\n",
        "    \n",
        "    return(labels)\n",
        "    "
      ],
      "execution_count": 0,
      "outputs": []
    },
    {
      "cell_type": "markdown",
      "metadata": {
        "id": "M7wtTS2if7Pd",
        "colab_type": "text"
      },
      "source": [
        "Let's now convert all queries in the train, validation and test trees to corresponding dicts."
      ]
    },
    {
      "cell_type": "code",
      "metadata": {
        "id": "l-slrcpgf7Pe",
        "colab_type": "code",
        "colab": {}
      },
      "source": [
        "train_dicts = [tree_to_dict(tree) for tree in train_trees]\n",
        "valid_dicts = [tree_to_dict(tree) for tree in valid_trees]\n",
        "test_dicts = [tree_to_dict(tree) for tree in test_trees]"
      ],
      "execution_count": 0,
      "outputs": []
    },
    {
      "cell_type": "markdown",
      "metadata": {
        "id": "zsULKTXRf7Pf",
        "colab_type": "text"
      },
      "source": [
        "Now, let's look at some typical entries in day_number, month_name etc., so that we can process them correctly. For example, how are day and months typically written - *seventh, twenty third, September (or Sept?)* etc. "
      ]
    },
    {
      "cell_type": "code",
      "metadata": {
        "scrolled": true,
        "id": "Ga8TKbCEf7Pg",
        "colab_type": "code",
        "colab": {}
      },
      "source": [
        "# depart_date.day_name\n",
        "day_names = [d.get(\"depart_date.day_name\") for d in train_dicts \\\n",
        "            if d.get(\"depart_date.day_name\") is not None]\n",
        "print(\"day_names\\n\", set(day_names), '\\n')\n",
        "\n",
        "# depart_date.day_number\n",
        "day_numbers = [d.get(\"depart_date.day_number\") for d in train_dicts \n",
        "               if d.get(\"depart_date.day_number\") is not None]\n",
        "print(\"day_numbers\\n\", set(day_numbers), '\\n')\n",
        "\n",
        "\n",
        "# depart_date.month_name\n",
        "month_names = [d.get(\"depart_date.month_name\") for d in train_dicts \n",
        "               if d.get(\"depart_date.month_name\") is not None]\n",
        "print(\"month_name\\n\", set(month_names), '\\n')\n",
        "\n",
        "# depart_time.time_relative\n",
        "time_relative = [d.get(\"depart_time.time_relative\") for d in train_dicts \n",
        "               if d.get(\"depart_time.time_relative\") is not None]\n",
        "print(\"time_relative\\n\", set(time_relative), '\\n')\n",
        "\n",
        "# depart_time.time\n",
        "time = [d.get(\"depart_time.time\") for d in train_dicts \n",
        "               if d.get(\"depart_time.time\") is not None]\n",
        "print(\"time\\n\", set(time), '\\n')\n",
        "\n",
        "# depart_time.period_of_day\n",
        "period_of_day = [d.get(\"depart_time.period_of_day\") for d in train_dicts \n",
        "               if d.get(\"depart_time.period_of_day\") is not None]\n",
        "print(\"period_of_day\\n\", set(period_of_day), '\\n')\n",
        "\n",
        "# depart_date.today_relative\n",
        "today_relative = [d.get(\"depart_date.today_relative\") for d in train_dicts \n",
        "               if d.get(\"depart_date.today_relative\") is not None]\n",
        "print(\"today_relative\\n\", set(today_relative), '\\n')\n"
      ],
      "execution_count": 0,
      "outputs": []
    },
    {
      "cell_type": "markdown",
      "metadata": {
        "id": "a8RA-N_Jf7Pi",
        "colab_type": "text"
      },
      "source": [
        "Dealing with months is the easiest since there are just 12 varieties. Similarly, day names cab be looked up from a manully created dict ```{sunday, sundays, tuesday, tuesdays, ...}``` etc.\n",
        "\n",
        "For converting day numbers to numerics, although there are some nice third-party libraries such as ```word2num```, they only handle simple cases such as 'one', 'thirty two' etc. but not words which ends in suffixes such as 'twentieth', 'thirty first' etc.\n",
        "\n",
        "Credits: <a href=\"https://stackoverflow.com/questions/493174/is-there-a-way-to-convert-number-words-to-integers?utm_medium=organic&utm_source=google_rich_qa&utm_campaign=google_rich_qa\">Stack Overflow</a>"
      ]
    },
    {
      "cell_type": "code",
      "metadata": {
        "id": "mP3aR6M-f7Pi",
        "colab_type": "code",
        "colab": {}
      },
      "source": [
        "# text2int\n",
        "def text2int(textnum, numwords={}):\n",
        "    if not numwords:\n",
        "        units = [\n",
        "        \"zero\", \"one\", \"two\", \"three\", \"four\", \"five\", \"six\", \"seven\", \"eight\",\n",
        "        \"nine\", \"ten\", \"eleven\", \"twelve\", \"thirteen\", \"fourteen\", \"fifteen\",\n",
        "        \"sixteen\", \"seventeen\", \"eighteen\", \"nineteen\",\n",
        "        ]\n",
        "\n",
        "        tens = [\"\", \"\", \"twenty\", \"thirty\", \"forty\", \"fifty\", \"sixty\", \"seventy\", \"eighty\", \"ninety\"]\n",
        "\n",
        "        scales = [\"hundred\", \"thousand\", \"million\", \"billion\", \"trillion\"]\n",
        "\n",
        "        numwords[\"and\"] = (1, 0)\n",
        "        for idx, word in enumerate(units):  numwords[word] = (1, idx)\n",
        "        for idx, word in enumerate(tens):       numwords[word] = (1, idx * 10)\n",
        "        for idx, word in enumerate(scales): numwords[word] = (10 ** (idx * 3 or 2), 0)\n",
        "\n",
        "    ordinal_words = {'first':1, 'second':2, 'third':3, 'fifth':5, 'eighth':8, 'ninth':9, 'twelfth':12}\n",
        "    ordinal_endings = [('ieth', 'y'), ('th', '')]\n",
        "\n",
        "    textnum = textnum.replace('-', ' ')\n",
        "\n",
        "    current = result = 0\n",
        "    for word in textnum.split():\n",
        "        if word in ordinal_words:\n",
        "            scale, increment = (1, ordinal_words[word])\n",
        "        else:\n",
        "            for ending, replacement in ordinal_endings:\n",
        "                if word.endswith(ending):\n",
        "                    word = \"%s%s\" % (word[:-len(ending)], replacement)\n",
        "\n",
        "            if word not in numwords:\n",
        "                raise Exception(\"Illegal word: \" + word)\n",
        "\n",
        "            scale, increment = numwords[word]\n",
        "        current = current * scale + increment\n",
        "        if scale > 100:\n",
        "            result += current\n",
        "            current = 0\n",
        "\n",
        "    return result + current"
      ],
      "execution_count": 0,
      "outputs": []
    },
    {
      "cell_type": "code",
      "metadata": {
        "id": "zYBCKhWLf7Pk",
        "colab_type": "code",
        "colab": {}
      },
      "source": [
        "# examples\n",
        "print(text2int(\"twenty\"))\n",
        "print(text2int(\"first\"))\n",
        "print(text2int(\"thirtieth\"))\n",
        "print(text2int(\"twenty eighth\"))\n",
        "print(text2int(\"twelfth\"))"
      ],
      "execution_count": 0,
      "outputs": []
    },
    {
      "cell_type": "code",
      "metadata": {
        "id": "YmmUOYOEf7Pl",
        "colab_type": "code",
        "colab": {}
      },
      "source": [
        "# months: use the builtin calendar module\n",
        "import calendar \n",
        "month2int = {v.lower():k for k,v in enumerate(calendar.month_name)}\n",
        "month2int    "
      ],
      "execution_count": 0,
      "outputs": []
    },
    {
      "cell_type": "code",
      "metadata": {
        "id": "xa_xkmQdf7Ps",
        "colab_type": "code",
        "colab": {}
      },
      "source": [
        "# days\n",
        "day2int = {v.lower():k for k,v in enumerate(calendar.day_name)}\n",
        "day2int"
      ],
      "execution_count": 0,
      "outputs": []
    },
    {
      "cell_type": "markdown",
      "metadata": {
        "id": "gIB0RYG_f7Pu",
        "colab_type": "text"
      },
      "source": [
        "Now, when coming across a day name such as Monday, Tuesday etc. we'll simply use the date corresponding to the next Monday/Tuesday. The following code returns the date of the next day_name."
      ]
    },
    {
      "cell_type": "code",
      "metadata": {
        "id": "48bX1ioPf7Pu",
        "colab_type": "code",
        "colab": {}
      },
      "source": [
        "# return the date of the next day_name from today\n",
        "import datetime\n",
        "def next_weekday(d, weekday):\n",
        "    days_ahead = weekday - d.weekday()\n",
        "    if days_ahead <= 0: # Target day already happened this week\n",
        "        days_ahead += 7\n",
        "    return d + datetime.timedelta(days_ahead)\n",
        "\n",
        "today = datetime.date.today()\n",
        "next_day = next_weekday(today, 1) # 0 = Monday, 1=Tuesday, 2=Wednesday...\n",
        "print(\"date\", next_day)\n",
        "print(\"year\", next_day.year)\n",
        "print(\"month\", next_day.month)\n",
        "print(\"day\", next_day.day)\n"
      ],
      "execution_count": 0,
      "outputs": []
    },
    {
      "cell_type": "markdown",
      "metadata": {
        "id": "JMV539Q4f7P9",
        "colab_type": "text"
      },
      "source": [
        "Now we can extract entities in numeric format using these functions/dicts. Given a query (tree), we'll extract source and destination cities, day (int), month (int) etc. If the day is specified as name e.g. Monday, we'll assume it is the next Monday and query that date. \n",
        "\n",
        "For time and time modifiers such as before, after etc., we'll filter the 'arr/dep time' attributes after we get the data from the API."
      ]
    },
    {
      "cell_type": "code",
      "metadata": {
        "id": "W61v346yf7P-",
        "colab_type": "code",
        "colab": {}
      },
      "source": [
        "# extract integer dates etc from query tree\n",
        "def extract_entities_from_tree(tree):\n",
        "    query_dict = tree_to_dict(tree)\n",
        "    entities = {}\n",
        "    \n",
        "    for key, val in query_dict.items():\n",
        "        \n",
        "        # get airport codes from city names as a list\n",
        "        if key == \"fromloc.city_name\" or key == \"toloc.city_name\":\n",
        "            entities[key] = city_to_airport_code(val)\n",
        "            \n",
        "        # strip the last 's' e.g. tuesdays from day of week\n",
        "        if key == \"depart_date.day_name\":\n",
        "            query_dict[key] = val[:-1] if val.endswith(\"s\") else val\n",
        "            \n",
        "            # get year, month, day of the next day_name\n",
        "            day_num = day2int[query_dict[key]]\n",
        "            today = datetime.date.today()\n",
        "            next_day = next_weekday(today, day_num) # 0 = Monday, 1=Tuesday, 2=Wednesday...\n",
        "            entities['day'] = next_day.day\n",
        "            entities['month'] = next_day.month\n",
        "            entities['year'] = next_day.year\n",
        "\n",
        "        # day number explicitly mentioned\n",
        "        if key == \"depart_date.day_number\":\n",
        "            entities['day'] = text2int(val)\n",
        "            today = datetime.date.today()\n",
        "            entities['month'] = today.month\n",
        "            entities['year'] = today.year\n",
        "            \n",
        "        # month explicitly mentioned\n",
        "        if key == \"depart_date.month_name\":\n",
        "            entities['month'] = month2int[val]\n",
        "            # assume today's date and year\n",
        "            today = datetime.date.today()\n",
        "            entities['day'] = today.day\n",
        "            entities['year'] = today.year\n",
        "        \n",
        "        # if day/month/year still not in dict, show tomorrow's flights\n",
        "        if ('day' not in entities.keys() or \n",
        "            'month' not in entities.keys() or \n",
        "            'year' not in entities.keys()):\n",
        "            today = datetime.date.today()\n",
        "            tom = today + datetime.timedelta(days=1)\n",
        "            entities['day'] = tom.day\n",
        "            entities['month'] = tom.month\n",
        "            entities['year'] = tom.year \n",
        "        \n",
        "    return query_dict, entities\n",
        "    \n",
        "    "
      ],
      "execution_count": 0,
      "outputs": []
    },
    {
      "cell_type": "code",
      "metadata": {
        "scrolled": true,
        "id": "EjOClP1mf7P_",
        "colab_type": "code",
        "colab": {}
      },
      "source": [
        "i = random.randrange(len(train_trees))\n",
        "i=2308\n",
        "print(' '.join([id_to_words[t] for t in train_x[i]]), '\\n')\n",
        "q, d = extract_entities_from_tree(train_trees[i])\n",
        "print(train_trees[i])\n",
        "print(q)\n",
        "print(d)"
      ],
      "execution_count": 0,
      "outputs": []
    },
    {
      "cell_type": "code",
      "metadata": {
        "id": "2lJ10EtHf7QB",
        "colab_type": "code",
        "colab": {}
      },
      "source": [
        "# examples from train set\n",
        "# i=1285, 2438 , 3442, 3120, 1956, 2084\n",
        "i"
      ],
      "execution_count": 0,
      "outputs": []
    },
    {
      "cell_type": "markdown",
      "metadata": {
        "id": "7sxBl3Q7f7QE",
        "colab_type": "text"
      },
      "source": [
        " ### Ignore - Processing a Sample User Generated Query"
      ]
    },
    {
      "cell_type": "code",
      "metadata": {
        "scrolled": true,
        "id": "ah048xUcf7QE",
        "colab_type": "code",
        "colab": {}
      },
      "source": [
        "# sample: predicting a new user generated query\n",
        "s = 'Can you please show me flights from new york to los angeles departing on monday after DIGIT pm'\n",
        "\n",
        "# tokenize and tag user query and create features for each token\n",
        "def process_user_query(sent_string):\n",
        "    tokens = nltk.word_tokenize(sent_string)\n",
        "    pos_tags = nltk.pos_tag(tokens)\n",
        "    \n",
        "    # create features from words in query q\n",
        "    query_features = [word_features(pos_tags, i) for i in range(len(pos_tags))]      \n",
        "    return(pos_tags, query_features)\n",
        "\n",
        "# generate query features for sentence s\n",
        "query_pos_tags, query_features = process_user_query(s)\n",
        "\n",
        "# predict tags of query\n",
        "predicted_labels = crf.predict([query_features])[0]\n",
        "predicted_labels"
      ],
      "execution_count": 0,
      "outputs": []
    },
    {
      "cell_type": "code",
      "metadata": {
        "scrolled": true,
        "id": "YEcSwXwHf7QH",
        "colab_type": "code",
        "colab": {}
      },
      "source": [
        "# convert the predicted labels into standard (token, pos, label) format\n",
        "query_tag_list = [(pos_tag[0], pos_tag[1], label) for pos_tag, label in list(zip(query_pos_tags, predicted_labels))]\n",
        "\n",
        "# convert into tree\n",
        "query_tree = conlltags2tree(query_tag_list)\n",
        "\n",
        "# traverse the tree and print labels of subtrees \n",
        "for n in query_tree:\n",
        "    if isinstance(n, nltk.tree.Tree):\n",
        "        label = n.label()\n",
        "        leaves = ' '.join(i[0] for i in n.leaves())\n",
        "        print(label,':', leaves)"
      ],
      "execution_count": 0,
      "outputs": []
    }
  ]
}